{
  "nbformat": 4,
  "nbformat_minor": 0,
  "metadata": {
    "colab": {
      "provenance": [],
      "authorship_tag": "ABX9TyPk278vD9DsYsmp+f1xL3N7"
    },
    "kernelspec": {
      "name": "python3",
      "display_name": "Python 3"
    },
    "language_info": {
      "name": "python"
    }
  },
  "cells": [
    {
      "cell_type": "code",
      "execution_count": null,
      "metadata": {
        "id": "_CrrTbyNsrGy"
      },
      "outputs": [],
      "source": [
        "\n",
        "def twice(w):\n",
        "  w = w*2\n",
        "\n",
        "  print('we are inside function twice-',w)"
      ]
    },
    {
      "cell_type": "code",
      "source": [
        "v = [2, 5, 1]\n",
        "print('outside the function-',twice(v))\n",
        "print('printing v to see the changes we made were permanent or temparory-',v)"
      ],
      "metadata": {
        "colab": {
          "base_uri": "https://localhost:8080/"
        },
        "id": "RYLzDWoIuPkk",
        "outputId": "cbe4c2b0-94db-4ae5-c536-12e3ad1ba8b8"
      },
      "execution_count": null,
      "outputs": [
        {
          "output_type": "stream",
          "name": "stdout",
          "text": [
            "we are inside function twice- [2, 5, 1, 2, 5, 1]\n",
            "outside the function- None\n",
            "printing v to see the changes we made were permanent or temparory- [2, 5, 1]\n"
          ]
        }
      ]
    },
    {
      "cell_type": "markdown",
      "source": [
        "**Using Numpy Array**"
      ],
      "metadata": {
        "id": "3W4hpkYRvti_"
      }
    },
    {
      "cell_type": "code",
      "source": [
        "import numpy as np\n",
        "v = np.array(v)"
      ],
      "metadata": {
        "id": "VUpW-abnuQhS"
      },
      "execution_count": null,
      "outputs": []
    },
    {
      "cell_type": "code",
      "source": [
        "print('outside the function-',twice(v))\n",
        "print('printing v to see the changes we made were permanent or temparory-',v)"
      ],
      "metadata": {
        "colab": {
          "base_uri": "https://localhost:8080/"
        },
        "id": "8LGKe2UFurRA",
        "outputId": "9f3a5ee5-fe46-4a82-e130-f7517c51f751"
      },
      "execution_count": null,
      "outputs": [
        {
          "output_type": "stream",
          "name": "stdout",
          "text": [
            "we are inside function twice- [ 4 10  2]\n",
            "outside the function- None\n",
            "printing v to see the changes we made were permanent or temparory- [2 5 1]\n"
          ]
        }
      ]
    },
    {
      "cell_type": "markdown",
      "source": [
        "This shows the twice function is copying the data."
      ],
      "metadata": {
        "id": "F3h9o1-Jv3UD"
      }
    },
    {
      "cell_type": "markdown",
      "source": [
        "**Using Strings**"
      ],
      "metadata": {
        "id": "hM4W9pPdyDaR"
      }
    },
    {
      "cell_type": "code",
      "source": [
        "v = 'python'\n",
        "print('outside the function-',twice(v))\n",
        "print('printing v to see the changes we made were permanent or temparory-',v)"
      ],
      "metadata": {
        "colab": {
          "base_uri": "https://localhost:8080/"
        },
        "id": "UgB994vyvroj",
        "outputId": "5d990606-5bf3-4a66-c624-f235e56001e5"
      },
      "execution_count": null,
      "outputs": [
        {
          "output_type": "stream",
          "name": "stdout",
          "text": [
            "we are inside function twice- pythonpython\n",
            "outside the function- None\n",
            "printing v to see the changes we made were permanent or temparory- python\n"
          ]
        }
      ]
    },
    {
      "cell_type": "markdown",
      "source": [
        "This shows the twice function is copying the data."
      ],
      "metadata": {
        "id": "2MUXmnriyd4D"
      }
    }
  ]
}