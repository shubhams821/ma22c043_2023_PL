{
  "nbformat": 4,
  "nbformat_minor": 0,
  "metadata": {
    "colab": {
      "provenance": [],
      "authorship_tag": "ABX9TyNRsvCCMOSGjRhicOI9aTBK",
      "include_colab_link": true
    },
    "kernelspec": {
      "name": "python3",
      "display_name": "Python 3"
    },
    "language_info": {
      "name": "python"
    }
  },
  "cells": [
    {
      "cell_type": "markdown",
      "metadata": {
        "id": "view-in-github",
        "colab_type": "text"
      },
      "source": [
        "<a href=\"https://colab.research.google.com/github/shubhams821/ma22c043_2023_PL/blob/main/Assignment_4/Argument_passing.ipynb\" target=\"_parent\"><img src=\"https://colab.research.google.com/assets/colab-badge.svg\" alt=\"Open In Colab\"/></a>"
      ]
    },
    {
      "cell_type": "code",
      "execution_count": 7,
      "metadata": {
        "id": "_CrrTbyNsrGy"
      },
      "outputs": [],
      "source": [
        "\n",
        "def twice(w):\n",
        "\n",
        "  w = w*2\n",
        "\n",
        "  print('we are inside function twice-',id(w))"
      ]
    },
    {
      "cell_type": "code",
      "source": [
        "v = [2, 5, 1]\n",
        "print('outside the function-',twice(v))\n",
        "print('printing v to see the changes we made were permanent or temparory-',id(v))"
      ],
      "metadata": {
        "colab": {
          "base_uri": "https://localhost:8080/"
        },
        "id": "RYLzDWoIuPkk",
        "outputId": "7f097628-ea04-4082-bebc-ee3cb165c48b"
      },
      "execution_count": 13,
      "outputs": [
        {
          "output_type": "stream",
          "name": "stdout",
          "text": [
            "we are inside function twice- 140207098691392\n",
            "outside the function- None\n",
            "printing v to see the changes we made were permanent or temparory- 140207098626496\n"
          ]
        }
      ]
    },
    {
      "cell_type": "markdown",
      "source": [
        "**Using Numpy Array**"
      ],
      "metadata": {
        "id": "3W4hpkYRvti_"
      }
    },
    {
      "cell_type": "code",
      "source": [
        "import numpy as np\n",
        "v = np.array(v)"
      ],
      "metadata": {
        "id": "VUpW-abnuQhS"
      },
      "execution_count": 9,
      "outputs": []
    },
    {
      "cell_type": "code",
      "source": [
        "print('outside the function-',twice(v))\n",
        "print('printing v to see the changes we made were permanent or temparory-',id(v))"
      ],
      "metadata": {
        "colab": {
          "base_uri": "https://localhost:8080/"
        },
        "id": "8LGKe2UFurRA",
        "outputId": "e3ed4439-4946-4618-b416-87ecdb169c87"
      },
      "execution_count": 14,
      "outputs": [
        {
          "output_type": "stream",
          "name": "stdout",
          "text": [
            "we are inside function twice- 140207113644928\n",
            "outside the function- None\n",
            "printing v to see the changes we made were permanent or temparory- 140207098626496\n"
          ]
        }
      ]
    },
    {
      "cell_type": "markdown",
      "source": [
        "This shows the twice function is copying the data."
      ],
      "metadata": {
        "id": "F3h9o1-Jv3UD"
      }
    },
    {
      "cell_type": "markdown",
      "source": [
        "**Using Strings**"
      ],
      "metadata": {
        "id": "hM4W9pPdyDaR"
      }
    },
    {
      "cell_type": "code",
      "source": [
        "v = 'python'\n",
        "print('outside the function-',twice(v))\n",
        "print('printing v to see the changes we made were permanent or temparory-',id(v))"
      ],
      "metadata": {
        "colab": {
          "base_uri": "https://localhost:8080/"
        },
        "id": "UgB994vyvroj",
        "outputId": "f4ddda10-ae35-4ef5-9c8b-afac6d4941e6"
      },
      "execution_count": 15,
      "outputs": [
        {
          "output_type": "stream",
          "name": "stdout",
          "text": [
            "we are inside function twice- 140206623621360\n",
            "outside the function- None\n",
            "printing v to see the changes we made were permanent or temparory- 140207519716592\n"
          ]
        }
      ]
    },
    {
      "cell_type": "markdown",
      "source": [
        "This shows the twice function is copying the data."
      ],
      "metadata": {
        "id": "2MUXmnriyd4D"
      }
    }
  ]
}