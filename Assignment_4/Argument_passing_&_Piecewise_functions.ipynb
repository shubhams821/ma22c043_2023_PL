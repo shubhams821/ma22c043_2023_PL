{
  "nbformat": 4,
  "nbformat_minor": 0,
  "metadata": {
    "colab": {
      "provenance": [],
      "authorship_tag": "ABX9TyOlSUHexywD+8w+hHviGYsT",
      "include_colab_link": true
    },
    "kernelspec": {
      "name": "python3",
      "display_name": "Python 3"
    },
    "language_info": {
      "name": "python"
    }
  },
  "cells": [
    {
      "cell_type": "markdown",
      "metadata": {
        "id": "view-in-github",
        "colab_type": "text"
      },
      "source": [
        "<a href=\"https://colab.research.google.com/github/shubhams821/ma22c043_2023_PL/blob/main/Assignment_4/Argument_passing_%26_Piecewise_functions.ipynb\" target=\"_parent\"><img src=\"https://colab.research.google.com/assets/colab-badge.svg\" alt=\"Open In Colab\"/></a>"
      ]
    },
    {
      "cell_type": "code",
      "execution_count": null,
      "metadata": {
        "id": "_CrrTbyNsrGy"
      },
      "outputs": [],
      "source": [
        "\n",
        "def twice(w):\n",
        "  w = w*2\n",
        "\n",
        "  print('we are inside function twice-',w)"
      ]
    },
    {
      "cell_type": "code",
      "source": [
        "v = [2, 5, 1]\n",
        "print('outside the function-',twice(v))\n",
        "print('printing v to see the changes we made were permanent or temparory-',v)"
      ],
      "metadata": {
        "colab": {
          "base_uri": "https://localhost:8080/"
        },
        "id": "RYLzDWoIuPkk",
        "outputId": "cbe4c2b0-94db-4ae5-c536-12e3ad1ba8b8"
      },
      "execution_count": null,
      "outputs": [
        {
          "output_type": "stream",
          "name": "stdout",
          "text": [
            "we are inside function twice- [2, 5, 1, 2, 5, 1]\n",
            "outside the function- None\n",
            "printing v to see the changes we made were permanent or temparory- [2, 5, 1]\n"
          ]
        }
      ]
    },
    {
      "cell_type": "markdown",
      "source": [
        "**Using Numpy Array**"
      ],
      "metadata": {
        "id": "3W4hpkYRvti_"
      }
    },
    {
      "cell_type": "code",
      "source": [
        "import numpy as np\n",
        "v = np.array(v)"
      ],
      "metadata": {
        "id": "VUpW-abnuQhS"
      },
      "execution_count": null,
      "outputs": []
    },
    {
      "cell_type": "code",
      "source": [
        "print('outside the function-',twice(v))\n",
        "print('printing v to see the changes we made were permanent or temparory-',v)"
      ],
      "metadata": {
        "colab": {
          "base_uri": "https://localhost:8080/"
        },
        "id": "8LGKe2UFurRA",
        "outputId": "9f3a5ee5-fe46-4a82-e130-f7517c51f751"
      },
      "execution_count": null,
      "outputs": [
        {
          "output_type": "stream",
          "name": "stdout",
          "text": [
            "we are inside function twice- [ 4 10  2]\n",
            "outside the function- None\n",
            "printing v to see the changes we made were permanent or temparory- [2 5 1]\n"
          ]
        }
      ]
    },
    {
      "cell_type": "markdown",
      "source": [
        "This shows the twice function is copying the data."
      ],
      "metadata": {
        "id": "F3h9o1-Jv3UD"
      }
    },
    {
      "cell_type": "markdown",
      "source": [
        "**Using Strings**"
      ],
      "metadata": {
        "id": "hM4W9pPdyDaR"
      }
    },
    {
      "cell_type": "code",
      "source": [
        "v = 'python'\n",
        "print('outside the function-',twice(v))\n",
        "print('printing v to see the changes we made were permanent or temparory-',v)"
      ],
      "metadata": {
        "colab": {
          "base_uri": "https://localhost:8080/"
        },
        "id": "UgB994vyvroj",
        "outputId": "5d990606-5bf3-4a66-c624-f235e56001e5"
      },
      "execution_count": null,
      "outputs": [
        {
          "output_type": "stream",
          "name": "stdout",
          "text": [
            "we are inside function twice- pythonpython\n",
            "outside the function- None\n",
            "printing v to see the changes we made were permanent or temparory- python\n"
          ]
        }
      ]
    },
    {
      "cell_type": "markdown",
      "source": [
        "This shows the twice function is copying the data."
      ],
      "metadata": {
        "id": "2MUXmnriyd4D"
      }
    },
    {
      "cell_type": "markdown",
      "source": [
        "**Piecewise Function**"
      ],
      "metadata": {
        "id": "t2fkmOQZywdr"
      }
    },
    {
      "cell_type": "code",
      "source": [
        "from math import sin,cos\n",
        "def piecewise(x):\n",
        "  if x >=0:\n",
        "    return cos(x)\n",
        "  else:\n",
        "    return sin(x)*(x**2)"
      ],
      "metadata": {
        "id": "1xG3UZhWyLfk"
      },
      "execution_count": null,
      "outputs": []
    },
    {
      "cell_type": "code",
      "source": [
        "def piecewise_fun(x):\n",
        "  return np.array([piecewise(i) for i in x ])"
      ],
      "metadata": {
        "id": "cOevNOsFz7KP"
      },
      "execution_count": null,
      "outputs": []
    },
    {
      "cell_type": "code",
      "source": [
        "x = np.linspace(-5,5,1000001)\n",
        "y = piecewise_fun(x)"
      ],
      "metadata": {
        "id": "PbCtaX_3zSZr"
      },
      "execution_count": null,
      "outputs": []
    },
    {
      "cell_type": "code",
      "source": [
        "import matplotlib.pyplot as plt\n",
        "plt.plot(x,y,'-')"
      ],
      "metadata": {
        "colab": {
          "base_uri": "https://localhost:8080/",
          "height": 448
        },
        "id": "nnTw8tddzeOk",
        "outputId": "259e4599-cd06-4064-d7dc-8dcb2cd37a19"
      },
      "execution_count": null,
      "outputs": [
        {
          "output_type": "execute_result",
          "data": {
            "text/plain": [
              "[<matplotlib.lines.Line2D at 0x79d64adc6d70>]"
            ]
          },
          "metadata": {},
          "execution_count": 78
        },
        {
          "output_type": "display_data",
          "data": {
            "text/plain": [
              "<Figure size 640x480 with 1 Axes>"
            ],
            "image/png": "[encoded data removed]"
          },
          "metadata": {}
        }
      ]
    },
    {
      "cell_type": "code",
      "source": [
        "from math import sin,cos\n",
        "def piecewise(x):\n",
        "  if x >=0:\n",
        "    return cos(x)\n",
        "  else:\n",
        "    return sin(x)*(x**2)\n"
      ],
      "metadata": {
        "id": "4qCEpgTt0V3g"
      },
      "execution_count": null,
      "outputs": []
    }
  ]
}