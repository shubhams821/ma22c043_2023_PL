{
  "cells": [
    {
      "cell_type": "code",
      "execution_count": null,
      "metadata": {
        "id": "AeUHFUsDaorX"
      },
      "outputs": [],
      "source": [
        "i=2; N=10\n",
        "L = [n**i for n in range(1, N)]"
      ]
    },
    {
      "cell_type": "code",
      "execution_count": null,
      "metadata": {
        "id": "-xrrC6aKaumY"
      },
      "outputs": [],
      "source": [
        "G = (n**i for n in range(1, N))"
      ]
    },
    {
      "cell_type": "code",
      "execution_count": null,
      "metadata": {
        "colab": {
          "base_uri": "https://localhost:8080/"
        },
        "id": "qs76MzCbaxQ8",
        "outputId": "4f197ed8-0892-4518-cbe4-3b071c2b8538"
      },
      "outputs": [
        {
          "data": {
            "text/plain": [
              "[1, 4, 9, 16, 25, 36, 49, 64, 81]"
            ]
          },
          "execution_count": 3,
          "metadata": {},
          "output_type": "execute_result"
        }
      ],
      "source": [
        "[l for l in L]"
      ]
    },
    {
      "cell_type": "code",
      "execution_count": null,
      "metadata": {
        "colab": {
          "base_uri": "https://localhost:8080/"
        },
        "id": "P4d9HP8sa1A-",
        "outputId": "c1078d88-fcbd-4479-94ef-e73c0c16c1ca"
      },
      "outputs": [
        {
          "data": {
            "text/plain": [
              "[1, 4, 9, 16, 25, 36, 49, 64, 81]"
            ]
          },
          "execution_count": 8,
          "metadata": {},
          "output_type": "execute_result"
        }
      ],
      "source": [
        "[g for g in G]"
      ]
    },
    {
      "cell_type": "code",
      "execution_count": null,
      "metadata": {
        "colab": {
          "base_uri": "https://localhost:8080/"
        },
        "id": "23IGhxoVa6Df",
        "outputId": "e3f5c7af-3718-4f41-f6b3-a9b1963a6a5e"
      },
      "outputs": [
        {
          "data": {
            "text/plain": [
              "[]"
            ]
          },
          "execution_count": 9,
          "metadata": {},
          "output_type": "execute_result"
        }
      ],
      "source": [
        "[g for g in G]"
      ]
    },
    {
      "cell_type": "code",
      "execution_count": null,
      "metadata": {
        "id": "Ry-sM7HSbObT"
      },
      "outputs": [],
      "source": [
        "G = (n**i for n in range(1, N))"
      ]
    },
    {
      "cell_type": "code",
      "execution_count": null,
      "metadata": {
        "id": "Rd8sHPcsbaBL"
      },
      "outputs": [],
      "source": [
        "def GG():\n",
        "\n",
        "  for n in range(1, N):\n",
        "    yield n**i"
      ]
    },
    {
      "cell_type": "code",
      "execution_count": null,
      "metadata": {
        "colab": {
          "base_uri": "https://localhost:8080/"
        },
        "id": "x4HQLEIzbeZv",
        "outputId": "ab19963e-5c06-454f-fe63-78bdf7aa180c"
      },
      "outputs": [
        {
          "name": "stdout",
          "output_type": "stream",
          "text": [
            "1 4 9 16 25 36 49 64 81\n"
          ]
        }
      ],
      "source": [
        "G2 = GG()\n",
        "print(*G2) # see that you get the same values as before"
      ]
    },
    {
      "cell_type": "code",
      "execution_count": null,
      "metadata": {
        "colab": {
          "base_uri": "https://localhost:8080/"
        },
        "id": "lzj6ZkuJbnEO",
        "outputId": "e947a574-08c6-48d9-ebf6-76d2e360da8a"
      },
      "outputs": [
        {
          "data": {
            "text/plain": [
              "<generator object <genexpr> at 0x7e59927b3d80>"
            ]
          },
          "execution_count": 15,
          "metadata": {},
          "output_type": "execute_result"
        }
      ],
      "source": [
        "G"
      ]
    },
    {
      "cell_type": "code",
      "execution_count": null,
      "metadata": {
        "colab": {
          "background_save": true
        },
        "id": "G9sCCpfybtgD",
        "outputId": "9bdb324e-77d6-4bec-ab3d-fdd67bfd06e0"
      },
      "outputs": [
        {
          "data": {
            "text/plain": [
              "(1, 4, 9)"
            ]
          },
          "execution_count": 16,
          "metadata": {},
          "output_type": "execute_result"
        }
      ],
      "source": [
        "G2 = GG()\n",
        "# get the first 3 values of the sequence using next:\n",
        "next(G2), next(G2), next(G2)"
      ]
    },
    {
      "cell_type": "code",
      "execution_count": null,
      "metadata": {
        "colab": {
          "base_uri": "https://localhost:8080/"
        },
        "id": "xxZt78e2b10K",
        "outputId": "11ea97aa-f963-4c39-993d-506bd80dc604"
      },
      "outputs": [
        {
          "output_type": "stream",
          "name": "stdout",
          "text": [
            "\n"
          ]
        }
      ],
      "source": [
        "print(*G2) # print the remaining values of the sequence"
      ]
    },
    {
      "cell_type": "code",
      "source": [
        "i = -20\n",
        "N = 10**8\n",
        "sum([n**i for n in range(1, N)])"
      ],
      "metadata": {
        "colab": {
          "base_uri": "https://localhost:8080/"
        },
        "id": "NiHPma_WcOpa",
        "outputId": "dad3f521-00d7-458b-cb2e-43887fd47e8d"
      },
      "execution_count": null,
      "outputs": [
        {
          "output_type": "execute_result",
          "data": {
            "text/plain": [
              "1.0000009539620338"
            ]
          },
          "metadata": {},
          "execution_count": 21
        }
      ]
    },
    {
      "cell_type": "code",
      "source": [
        "! pip install -U memory_profiler\n",
        "%load_ext memory_profiler"
      ],
      "metadata": {
        "colab": {
          "base_uri": "https://localhost:8080/"
        },
        "id": "wqjB9l6BcSJr",
        "outputId": "2ad25f31-5ab4-431a-8995-caf81494b4f8"
      },
      "execution_count": null,
      "outputs": [
        {
          "output_type": "stream",
          "name": "stdout",
          "text": [
            "Collecting memory_profiler\n",
            "  Downloading memory_profiler-0.61.0-py3-none-any.whl (31 kB)\n",
            "Requirement already satisfied: psutil in /usr/local/lib/python3.10/dist-packages (from memory_profiler) (5.9.5)\n",
            "Installing collected packages: memory_profiler\n",
            "Successfully installed memory_profiler-0.61.0\n"
          ]
        }
      ]
    },
    {
      "cell_type": "code",
      "source": [
        "%memit sum([n**i for n in range(1, N)])"
      ],
      "metadata": {
        "colab": {
          "base_uri": "https://localhost:8080/"
        },
        "id": "-HS20WvocWJu",
        "outputId": "d9123fb4-eeb0-4221-b968-d3f557601b10"
      },
      "execution_count": null,
      "outputs": [
        {
          "output_type": "stream",
          "name": "stdout",
          "text": [
            "peak memory: 3935.99 MiB, increment: 3808.64 MiB\n"
          ]
        }
      ]
    },
    {
      "cell_type": "code",
      "source": [
        "%memit\n",
        "G3 = (n**i for n in range(1,N))\n",
        "s =0\n",
        "for g in G3:\n",
        "  s+=g\n",
        "  if g<=1e-15:\n",
        "    break\n",
        "print(s)"
      ],
      "metadata": {
        "colab": {
          "base_uri": "https://localhost:8080/"
        },
        "id": "wemWvXY0dDus",
        "outputId": "15e5ca4a-c1d3-43d8-fa76-c47e98668f0a"
      },
      "execution_count": null,
      "outputs": [
        {
          "output_type": "stream",
          "name": "stdout",
          "text": [
            "peak memory: 211.92 MiB, increment: 0.10 MiB\n",
            "1.0000009539620338\n"
          ]
        }
      ]
    },
    {
      "cell_type": "code",
      "source": [
        "def natural_numbers():\n",
        "\n",
        "  n = 0\n",
        "  while True:\n",
        "    yield n\n",
        "    n += 1"
      ],
      "metadata": {
        "id": "MDuagH-Zd1L8"
      },
      "execution_count": null,
      "outputs": []
    },
    {
      "cell_type": "code",
      "source": [
        "for n in natural_numbers():\n",
        "\n",
        "  print(n)\n",
        "  if n >= 5: break # don't go into infinite loop!"
      ],
      "metadata": {
        "colab": {
          "base_uri": "https://localhost:8080/"
        },
        "id": "36xXpBXZekCR",
        "outputId": "212e7a25-474d-4ce8-98bb-f13debe3b9d6"
      },
      "execution_count": null,
      "outputs": [
        {
          "output_type": "stream",
          "name": "stdout",
          "text": [
            "0\n",
            "1\n",
            "2\n",
            "3\n",
            "4\n",
            "5\n"
          ]
        }
      ]
    },
    {
      "cell_type": "code",
      "source": [
        "def fibonacci(max):\n",
        "  f, fnext = 0, 1\n",
        "  while f < max:\n",
        "    yield f\n",
        "    f, fnext = fnext, f + fnext"
      ],
      "metadata": {
        "id": "8ir2Fzpjerpr"
      },
      "execution_count": null,
      "outputs": []
    },
    {
      "cell_type": "code",
      "source": [
        "Fn = fibonacci(10000)\n",
        "print(*Fn)"
      ],
      "metadata": {
        "colab": {
          "base_uri": "https://localhost:8080/"
        },
        "id": "521ZEyFhe_q9",
        "outputId": "cbd0495a-909a-46fb-8285-8ae4fd8fdef1"
      },
      "execution_count": null,
      "outputs": [
        {
          "output_type": "stream",
          "name": "stdout",
          "text": [
            "0 1 1 2 3 5 8 13 21 34 55 89 144 233 377 610 987 1597 2584 4181 6765\n"
          ]
        }
      ]
    },
    {
      "cell_type": "code",
      "source": [
        "P = [2, 3]"
      ],
      "metadata": {
        "id": "tBAbkQVXfDJe"
      },
      "execution_count": null,
      "outputs": []
    },
    {
      "cell_type": "code",
      "source": [
        "[4 % p for p in P]"
      ],
      "metadata": {
        "colab": {
          "base_uri": "https://localhost:8080/"
        },
        "id": "B5Fq3z2gfIKF",
        "outputId": "97a66069-a242-4623-9b79-b5384dd70e66"
      },
      "execution_count": null,
      "outputs": [
        {
          "output_type": "execute_result",
          "data": {
            "text/plain": [
              "[0, 1]"
            ]
          },
          "metadata": {},
          "execution_count": 37
        }
      ]
    },
    {
      "cell_type": "code",
      "source": [
        "all([4 % p for p in P])"
      ],
      "metadata": {
        "colab": {
          "base_uri": "https://localhost:8080/"
        },
        "id": "_sLpREHpfLTl",
        "outputId": "ba37768d-4c02-481a-c1a9-3a4e3c7a91d6"
      },
      "execution_count": null,
      "outputs": [
        {
          "output_type": "execute_result",
          "data": {
            "text/plain": [
              "False"
            ]
          },
          "metadata": {},
          "execution_count": 38
        }
      ]
    },
    {
      "cell_type": "code",
      "source": [
        "all([5 % p for p in P])"
      ],
      "metadata": {
        "colab": {
          "base_uri": "https://localhost:8080/"
        },
        "id": "BoPKMXtcfSHh",
        "outputId": "1497537e-1ee3-4a0e-db72-8d925a6ff312"
      },
      "execution_count": null,
      "outputs": [
        {
          "output_type": "execute_result",
          "data": {
            "text/plain": [
              "True"
            ]
          },
          "metadata": {},
          "execution_count": 39
        }
      ]
    },
    {
      "cell_type": "code",
      "source": [
        "def prime_numbers(N):\n",
        "  primes = []\n",
        "  q = 1\n",
        "  for n in range(q+1, N):\n",
        "    if all(n % p > 0 for p in primes):\n",
        "      primes.append(n)\n",
        "      q = n\n",
        "      yield n"
      ],
      "metadata": {
        "id": "RIc4hHtUfTxL"
      },
      "execution_count": null,
      "outputs": []
    },
    {
      "cell_type": "code",
      "source": [
        "list(prime_numbers(70))"
      ],
      "metadata": {
        "colab": {
          "base_uri": "https://localhost:8080/"
        },
        "id": "De0Sg-dtfe3d",
        "outputId": "ac3cc938-fb54-4e24-af89-e188175af938"
      },
      "execution_count": null,
      "outputs": [
        {
          "output_type": "execute_result",
          "data": {
            "text/plain": [
              "[2, 3, 5, 7, 11, 13, 17, 19, 23, 29, 31, 37, 41, 43, 47, 53, 59, 61, 67]"
            ]
          },
          "metadata": {},
          "execution_count": 41
        }
      ]
    },
    {
      "cell_type": "code",
      "source": [
        "def fibonacci_primes(N):\n",
        "  F = set(fibonacci(N))\n",
        "  P = set(prime_numbers(N))\n",
        "  print('Intersecting', len(P), 'primes with', len(F), 'fibonaccis.')\n",
        "  return P.intersection(F)\n",
        "fibonacci_primes(100000)"
      ],
      "metadata": {
        "colab": {
          "base_uri": "https://localhost:8080/"
        },
        "id": "7d5mFrhZfl4x",
        "outputId": "2e603496-171e-44ea-bcba-8607c6368abd"
      },
      "execution_count": null,
      "outputs": [
        {
          "output_type": "stream",
          "name": "stdout",
          "text": [
            "Intersecting 9592 primes with 25 fibonaccis.\n"
          ]
        },
        {
          "output_type": "execute_result",
          "data": {
            "text/plain": [
              "{2, 3, 5, 13, 89, 233, 1597, 28657}"
            ]
          },
          "metadata": {},
          "execution_count": 43
        }
      ]
    },
    {
      "cell_type": "code",
      "source": [
        "nFP = [3, 4, 5, 7, 11, 13, 17, 23, 29, 43]"
      ],
      "metadata": {
        "id": "7HDUGDCPfrdt"
      },
      "execution_count": null,
      "outputs": []
    },
    {
      "cell_type": "code",
      "source": [
        "def test_fibonacci_prime():\n",
        "\n",
        "  N = 10000\n",
        "  F = list(fibonacci(N))\n",
        "  nFP = [3, 4, 5, 7, 11, 13, 17, 23, 29, 43]\n",
        "  our_list = fibonacci_primes(N)\n",
        "  known_list = set([F[n] for n in nFP if n < len(F)])\n",
        "  assert len(known_list.difference(our_list))==0, 'We have a bug!'\n",
        "  print('Passed test!')"
      ],
      "metadata": {
        "id": "oi7G_p-Efz0v"
      },
      "execution_count": null,
      "outputs": []
    }
  ],
  "metadata": {
    "colab": {
      "provenance": [],
      "authorship_tag": "ABX9TyNbAAlJin/NVF1uBCxISyfq"
    },
    "kernelspec": {
      "display_name": "Python 3",
      "name": "python3"
    },
    "language_info": {
      "name": "python"
    }
  },
  "nbformat": 4,
  "nbformat_minor": 0
}