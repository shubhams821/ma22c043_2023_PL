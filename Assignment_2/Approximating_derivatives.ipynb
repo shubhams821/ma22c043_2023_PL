{
  "nbformat": 4,
  "nbformat_minor": 0,
  "metadata": {
    "colab": {
      "provenance": [],
      "authorship_tag": "ABX9TyNWma9s9pvhuW2zjrcDFfB6",
      "include_colab_link": true
    },
    "kernelspec": {
      "name": "python3",
      "display_name": "Python 3"
    },
    "language_info": {
      "name": "python"
    }
  },
  "cells": [
    {
      "cell_type": "markdown",
      "metadata": {
        "id": "view-in-github",
        "colab_type": "text"
      },
      "source": [
        "<a href=\"https://colab.research.google.com/github/shubhams821/ma22c043_2023_PL/blob/main/Assignment_2/Approximating_derivatives.ipynb\" target=\"_parent\"><img src=\"https://colab.research.google.com/assets/colab-badge.svg\" alt=\"Open In Colab\"/></a>"
      ]
    },
    {
      "cell_type": "code",
      "execution_count": 2,
      "metadata": {
        "id": "udErD8Zj0H3D"
      },
      "outputs": [],
      "source": [
        "def D2(f, x, h=1E-6):\n",
        "  return (f(x-h) - 2*f(x) + f(x+h)) / (h*h)"
      ]
    },
    {
      "cell_type": "code",
      "source": [
        "from math import sin\n",
        "D2(sin, 0.2)"
      ],
      "metadata": {
        "colab": {
          "base_uri": "https://localhost:8080/"
        },
        "id": "yigUN5DT1G86",
        "outputId": "b492ae24-2651-4f10-e0aa-0e3f33586f8d"
      },
      "execution_count": 3,
      "outputs": [
        {
          "output_type": "execute_result",
          "data": {
            "text/plain": [
              "-0.19864665468105613"
            ]
          },
          "metadata": {},
          "execution_count": 3
        }
      ]
    },
    {
      "cell_type": "code",
      "source": [
        "-sin(0.2)"
      ],
      "metadata": {
        "colab": {
          "base_uri": "https://localhost:8080/"
        },
        "id": "SZ5uhr9C1UwO",
        "outputId": "7136b09a-4303-4f6f-ec81-b4ea2c5aea28"
      },
      "execution_count": 4,
      "outputs": [
        {
          "output_type": "execute_result",
          "data": {
            "text/plain": [
              "-0.19866933079506122"
            ]
          },
          "metadata": {},
          "execution_count": 4
        }
      ]
    },
    {
      "cell_type": "code",
      "source": [
        "def g(x):\n",
        "  return sin(2*x)\n",
        "D2(g, 0.2)"
      ],
      "metadata": {
        "colab": {
          "base_uri": "https://localhost:8080/"
        },
        "id": "R_SD7TZK1aHz",
        "outputId": "de85c043-eaf3-47d5-e0ac-b486448bb47a"
      },
      "execution_count": 6,
      "outputs": [
        {
          "output_type": "execute_result",
          "data": {
            "text/plain": [
              "-1.5576429035490946"
            ]
          },
          "metadata": {},
          "execution_count": 6
        }
      ]
    },
    {
      "cell_type": "markdown",
      "source": [
        "An alternate way is using a lambda function. This gives a one-liner without damaging code readability."
      ],
      "metadata": {
        "id": "bzCS1VcZ1t23"
      }
    },
    {
      "cell_type": "code",
      "source": [
        "D2(lambda x: sin(2*x), 0.2) # central diff approximation"
      ],
      "metadata": {
        "colab": {
          "base_uri": "https://localhost:8080/"
        },
        "id": "TMpi4t9C1cnb",
        "outputId": "be3c9811-29a4-44f1-d968-b23417bf486f"
      },
      "execution_count": 7,
      "outputs": [
        {
          "output_type": "execute_result",
          "data": {
            "text/plain": [
              "-1.5576429035490946"
            ]
          },
          "metadata": {},
          "execution_count": 7
        }
      ]
    },
    {
      "cell_type": "code",
      "source": [
        "-4*sin(2* 0.2) # actual 2nd derivative value"
      ],
      "metadata": {
        "colab": {
          "base_uri": "https://localhost:8080/"
        },
        "id": "hcC8_KoM1qL4",
        "outputId": "6661d9b0-ea45-4904-ffec-6e6350ebaadc"
      },
      "execution_count": 8,
      "outputs": [
        {
          "output_type": "execute_result",
          "data": {
            "text/plain": [
              "-1.557673369234602"
            ]
          },
          "metadata": {},
          "execution_count": 8
        }
      ]
    },
    {
      "cell_type": "code",
      "source": [
        "print('  h   D2 Result    Error')\n",
        "for k in range(4,8):\n",
        "  h = 2**(-k)\n",
        "  d2g = D2(lambda x: x**-6, 1, h=h)\n",
        "  e = d2g - 42\n",
        "  print('%.0e %.5f %7.6f' %(h, d2g, e))"
      ],
      "metadata": {
        "colab": {
          "base_uri": "https://localhost:8080/"
        },
        "id": "sxjn7Wcu12je",
        "outputId": "19afd51b-ad6c-4ae4-cdaa-ed5e27442fe5"
      },
      "execution_count": 13,
      "outputs": [
        {
          "output_type": "stream",
          "name": "stdout",
          "text": [
            "  h   D2 Result    Error\n",
            "6e-02 42.99863 0.998629\n",
            "3e-02 42.24698 0.246977\n",
            "2e-02 42.06158 0.061579\n",
            "8e-03 42.01538 0.015384\n"
          ]
        }
      ]
    },
    {
      "cell_type": "markdown",
      "source": [
        "**Limitations** :\n",
        "A serious limitation of numerical differentiation formulas like this can be seen when we take values of h really close to 0."
      ],
      "metadata": {
        "id": "Qbj-ECuQ2apD"
      }
    },
    {
      "cell_type": "code",
      "source": [
        "for k in range(1,14):\n",
        "  h = 10**(-k)\n",
        "  d2g = D2(lambda x: x**-6,1, h)\n",
        "  print('%.0e %18.5f' %(h, d2g))"
      ],
      "metadata": {
        "colab": {
          "base_uri": "https://localhost:8080/"
        },
        "id": "D4ViK4hS16tV",
        "outputId": "dc6dffc1-c7f0-46e0-8ebf-0bb29105187f"
      },
      "execution_count": 14,
      "outputs": [
        {
          "output_type": "stream",
          "name": "stdout",
          "text": [
            "1e-01           44.61504\n",
            "1e-02           42.02521\n",
            "1e-03           42.00025\n",
            "1e-04           42.00000\n",
            "1e-05           41.99999\n",
            "1e-06           42.00074\n",
            "1e-07           41.94423\n",
            "1e-08           47.73959\n",
            "1e-09         -666.13381\n",
            "1e-10            0.00000\n",
            "1e-11            0.00000\n",
            "1e-12   -666133814.77509\n",
            "1e-13  66613381477.50939\n"
          ]
        }
      ]
    },
    {
      "cell_type": "code",
      "source": [],
      "metadata": {
        "id": "AM_hxTxT2UkP"
      },
      "execution_count": null,
      "outputs": []
    }
  ]
}