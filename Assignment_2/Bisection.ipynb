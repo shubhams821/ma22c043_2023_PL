{
  "nbformat": 4,
  "nbformat_minor": 0,
  "metadata": {
    "colab": {
      "provenance": [],
      "authorship_tag": "ABX9TyNB/Ws5CNXB5Z83+Stl8F/S",
      "include_colab_link": true
    },
    "kernelspec": {
      "name": "python3",
      "display_name": "Python 3"
    },
    "language_info": {
      "name": "python"
    }
  },
  "cells": [
    {
      "cell_type": "markdown",
      "metadata": {
        "id": "view-in-github",
        "colab_type": "text"
      },
      "source": [
        "<a href=\"https://colab.research.google.com/github/shubhams821/ma22c043_2023_PL/blob/main/Assignment_2/Bisection.ipynb\" target=\"_parent\"><img src=\"https://colab.research.google.com/assets/colab-badge.svg\" alt=\"Open In Colab\"/></a>"
      ]
    },
    {
      "cell_type": "code",
      "source": [
        "from math import cos"
      ],
      "metadata": {
        "id": "9zfvH-Eo8O3o"
      },
      "execution_count": null,
      "outputs": []
    },
    {
      "cell_type": "code",
      "execution_count": null,
      "metadata": {
        "id": "pL0_Udan2VZW"
      },
      "outputs": [],
      "source": [
        "def bisection(f, a, b, eps, niters):\n",
        "  n=0\n",
        "  f_1=f(a);\n",
        "  while n<niters or (b-a)/2>eps:\n",
        "    m = (b+a)/2\n",
        "    f_m = f(m)\n",
        "    if f_1*f_m<0:\n",
        "      b = m;\n",
        "    else:\n",
        "      a = m\n",
        "    n+=1\n",
        "  return m\n",
        "\n"
      ]
    },
    {
      "cell_type": "code",
      "source": [
        "def Der(f,x,h=1E-6):\n",
        "  return (f(x+h/2)-f(x-h/2))/h"
      ],
      "metadata": {
        "id": "Mq9hLt647-Kc"
      },
      "execution_count": null,
      "outputs": []
    },
    {
      "cell_type": "code",
      "source": [
        "\n",
        "bisection(lambda x: x-1+cos(x),-0.5,1,1e-10,120)"
      ],
      "metadata": {
        "colab": {
          "base_uri": "https://localhost:8080/"
        },
        "id": "1AaTzyAa8EgN",
        "outputId": "c38a80e6-d42a-4c28-f2e7-0c82e3ea42b0"
      },
      "execution_count": null,
      "outputs": [
        {
          "output_type": "execute_result",
          "data": {
            "text/plain": [
              "5.551115123125783e-17"
            ]
          },
          "metadata": {},
          "execution_count": 21
        }
      ]
    },
    {
      "cell_type": "code",
      "source": [
        "def val(f,x):\n",
        "  return f(x)"
      ],
      "metadata": {
        "id": "sBnfmi4b9Em0"
      },
      "execution_count": null,
      "outputs": []
    },
    {
      "cell_type": "code",
      "source": [
        "val(lambda x: x-1+cos(x),5.551115123125783e-17)"
      ],
      "metadata": {
        "colab": {
          "base_uri": "https://localhost:8080/"
        },
        "id": "FFqM8RigtYud",
        "outputId": "33927e82-a67f-45f6-d645-9d9f4d437d4a"
      },
      "execution_count": null,
      "outputs": [
        {
          "output_type": "execute_result",
          "data": {
            "text/plain": [
              "0.0"
            ]
          },
          "metadata": {},
          "execution_count": 22
        }
      ]
    },
    {
      "cell_type": "code",
      "source": [],
      "metadata": {
        "id": "dMo8qhwBtecQ"
      },
      "execution_count": null,
      "outputs": []
    }
  ]
}