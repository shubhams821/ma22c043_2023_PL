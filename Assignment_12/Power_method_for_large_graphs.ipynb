{
  "nbformat": 4,
  "nbformat_minor": 0,
  "metadata": {
    "colab": {
      "provenance": []
    },
    "kernelspec": {
      "name": "python3",
      "display_name": "Python 3"
    },
    "language_info": {
      "name": "python"
    }
  },
  "cells": [
    {
      "cell_type": "code",
      "execution_count": 1,
      "metadata": {
        "colab": {
          "base_uri": "https://localhost:8080/"
        },
        "id": "hRLP6I2tEo-2",
        "outputId": "a0a524a5-07fe-4859-ea34-3dcc0f62a45a"
      },
      "outputs": [
        {
          "output_type": "stream",
          "name": "stdout",
          "text": [
            "Stationary Distribution: [[0.5 0. ]\n",
            " [0.  0. ]\n",
            " [0.  0. ]\n",
            " [0.  0. ]\n",
            " [0.  0. ]\n",
            " [0.  0. ]\n",
            " [0.  0. ]\n",
            " [0.  0. ]\n",
            " [0.  0. ]\n",
            " [0.  0. ]\n",
            " [0.  0.5]]\n"
          ]
        }
      ],
      "source": [
        "import numpy as np\n",
        "from scipy.linalg import eig\n",
        "\n",
        "# Parameters\n",
        "p = 0.4\n",
        "N = 10\n",
        "\n",
        "# Transition matrix\n",
        "P = np.zeros((N + 1, N + 1))\n",
        "\n",
        "for i in range(1, N):\n",
        "    P[i, i - 1] = 1 - p\n",
        "    P[i, i + 1] = p\n",
        "\n",
        "P[0, 0] = 1\n",
        "P[N, N] = 1\n",
        "\n",
        "# Compute eigenvectors and eigenvalues\n",
        "eigenvalues, eigenvectors = eig(P, left=True, right=False)\n",
        "\n",
        "# Find the eigenvector corresponding to eigenvalue 1\n",
        "stationary_distribution = np.real_if_close(eigenvectors[:, np.isclose(eigenvalues, 1)])\n",
        "\n",
        "# Normalize the stationary distribution\n",
        "stationary_distribution /= np.sum(stationary_distribution)\n",
        "\n",
        "print(\"Stationary Distribution:\", stationary_distribution)\n"
      ]
    },
    {
      "cell_type": "code",
      "source": [
        "import numpy as np\n",
        "\n",
        "def power_method(transition_matrix, restart_prob, num_iterations=1000, tol=1e-6):\n",
        "    num_states = len(transition_matrix)\n",
        "    pagerank = np.ones(num_states) / num_states\n",
        "\n",
        "    for _ in range(num_iterations):\n",
        "        prev_pagerank = pagerank.copy()\n",
        "        pagerank = restart_prob * np.dot(transition_matrix, pagerank) + (1 - restart_prob) / num_states\n",
        "        if np.linalg.norm(pagerank - prev_pagerank, 1) < tol:\n",
        "            break\n",
        "\n",
        "    return pagerank\n",
        "\n",
        "def compute_pagerank(N, restart_probs):\n",
        "    # Construct the adjacency matrix (random walk)\n",
        "    adjacency_matrix = np.zeros((N + 1, N + 1))\n",
        "\n",
        "    for i in range(1, N):\n",
        "        adjacency_matrix[i, i - 1] = 1\n",
        "        adjacency_matrix[i, i + 1] = 1\n",
        "\n",
        "    adjacency_matrix[0, 0] = 1\n",
        "    adjacency_matrix[N, N] = 1\n",
        "\n",
        "    # Compute PageRank for different restart probabilities\n",
        "    for restart_prob in restart_probs:\n",
        "        # Create the transition matrix with restart probability\n",
        "        transition_matrix = restart_prob * adjacency_matrix + (1 - restart_prob) / (N + 1)\n",
        "\n",
        "        # Compute PageRank using the power method\n",
        "        pagerank = power_method(transition_matrix, restart_prob)\n",
        "\n",
        "        print(f\"Restart Probability: {restart_prob}\")\n",
        "        print(\"PageRank:\", pagerank)\n",
        "        print()\n",
        "\n",
        "# Parameters\n",
        "N = 10\n",
        "restart_probs = [0.1, 0.01, 1e-3, 1e-4]\n",
        "\n",
        "# Compute PageRank for different restart probabilities\n",
        "compute_pagerank(N, restart_probs)\n"
      ],
      "metadata": {
        "colab": {
          "base_uri": "https://localhost:8080/"
        },
        "id": "l_lgg87IFA9A",
        "outputId": "ce5d346f-254f-4fba-ed51-dbc56f0196ca"
      },
      "execution_count": 2,
      "outputs": [
        {
          "output_type": "stream",
          "name": "stdout",
          "text": [
            "Restart Probability: 0.1\n",
            "PageRank: [0.09098488 0.09190401 0.0919132  0.0919133  0.0919133  0.0919133\n",
            " 0.0919133  0.0919133  0.0919132  0.09190401 0.09098488]\n",
            "\n",
            "Restart Probability: 0.01\n",
            "PageRank: [0.09090916 0.09091826 0.09091826 0.09091826 0.09091826 0.09091826\n",
            " 0.09091826 0.09091826 0.09091826 0.09091826 0.09090916]\n",
            "\n",
            "Restart Probability: 0.001\n",
            "PageRank: [0.09090909 0.09090918 0.09090918 0.09090918 0.09090918 0.09090918\n",
            " 0.09090918 0.09090918 0.09090918 0.09090918 0.09090909]\n",
            "\n",
            "Restart Probability: 0.0001\n",
            "PageRank: [0.09090909 0.09090909 0.09090909 0.09090909 0.09090909 0.09090909\n",
            " 0.09090909 0.09090909 0.09090909 0.09090909 0.09090909]\n",
            "\n"
          ]
        }
      ]
    },
    {
      "cell_type": "code",
      "source": [
        "import numpy as np\n",
        "from scipy.linalg import eig\n",
        "\n",
        "def compute_pagerank_eig(N, restart_prob):\n",
        "    # Construct the transition matrix (random walk)\n",
        "    transition_matrix = np.zeros((N + 1, N + 1))\n",
        "\n",
        "    for i in range(1, N):\n",
        "        transition_matrix[i, i - 1] = 1\n",
        "        transition_matrix[i, i + 1] = 1\n",
        "\n",
        "    transition_matrix[0, 0] = 1\n",
        "    transition_matrix[N, N] = 1\n",
        "\n",
        "    # Introduce the restart probability\n",
        "    transition_matrix = restart_prob * transition_matrix + (1 - restart_prob) / (N + 1)\n",
        "\n",
        "    # Compute the eigenvalues and eigenvectors\n",
        "    _, eigenvectors = eig(transition_matrix, right=True)\n",
        "\n",
        "    # Extract the eigenvector corresponding to eigenvalue 1\n",
        "    pagerank_vector = eigenvectors[:, 0]\n",
        "\n",
        "    # Normalize to make it a probability distribution\n",
        "    pagerank_vector /= np.sum(pagerank_vector)\n",
        "\n",
        "    return pagerank_vector\n",
        "\n",
        "def increase_N_and_compute(N_values, restart_prob):\n",
        "    for N in N_values:\n",
        "        pagerank_vector = compute_pagerank_eig(N, restart_prob)\n",
        "        print(f\"For N = {N}, Pagerank Vector:\", pagerank_vector)\n",
        "        print()\n",
        "\n",
        "# Parameters\n",
        "restart_prob = 0.1\n",
        "N_values = [1000, 2000, 3000]  # Add more values if needed\n",
        "\n",
        "# Compute PageRank for different N values\n",
        "increase_N_and_compute(N_values, restart_prob)\n"
      ],
      "metadata": {
        "colab": {
          "base_uri": "https://localhost:8080/"
        },
        "id": "M2XQDNdfFLD4",
        "outputId": "af730a07-336f-43d6-9a2c-f1d5659a0c89"
      },
      "execution_count": 3,
      "outputs": [
        {
          "output_type": "stream",
          "name": "stdout",
          "text": [
            "For N = 1000, Pagerank Vector: [0.00089928 0.00099006 0.00099838 ... 0.00099838 0.00099006 0.00089928]\n",
            "\n",
            "For N = 2000, Pagerank Vector: [0.00044982 0.00049522 0.00049938 ... 0.00049938 0.00049522 0.00044982]\n",
            "\n",
            "For N = 3000, Pagerank Vector: [0.00029992 0.00033019 0.00033297 ... 0.00033297 0.00033019 0.00029992]\n",
            "\n"
          ]
        }
      ]
    },
    {
      "cell_type": "code",
      "source": [
        "import numpy as np\n",
        "\n",
        "def power_method(P, max_iterations=1000, tol=1e-6):\n",
        "    \"\"\"\n",
        "    Compute the stationary distribution using the power method.\n",
        "\n",
        "    Parameters:\n",
        "    - P: Positive stochastic matrix (transition matrix).\n",
        "    - max_iterations: Maximum number of iterations.\n",
        "    - tol: Tolerance for convergence.\n",
        "\n",
        "    Returns:\n",
        "    - stationary_distribution: The computed stationary distribution.\n",
        "    \"\"\"\n",
        "\n",
        "    # Initialize the stationary distribution\n",
        "    stationary_distribution = np.ones(P.shape[0]) / P.shape[0]\n",
        "\n",
        "    for _ in range(max_iterations):\n",
        "        prev_distribution = stationary_distribution.copy()\n",
        "        stationary_distribution = np.dot(P, stationary_distribution)\n",
        "\n",
        "        # Check for convergence\n",
        "        if np.linalg.norm(stationary_distribution - prev_distribution, 1) < tol:\n",
        "            break\n",
        "\n",
        "    return stationary_distribution\n",
        "\n",
        "# Example Usage:\n",
        "# Assuming you have the transition matrix P for the ruin state with N = 10 and p = 0.4\n",
        "N = 10\n",
        "p = 0.4\n",
        "transition_matrix = np.zeros((N + 1, N + 1))\n",
        "\n",
        "for i in range(1, N):\n",
        "    transition_matrix[i, i - 1] = 1 - p\n",
        "    transition_matrix[i, i + 1] = p\n",
        "\n",
        "transition_matrix[0, 0] = 1\n",
        "transition_matrix[N, N] = 1\n",
        "\n",
        "# Compute the stationary distribution using the power method\n",
        "stationary_distribution = power_method(transition_matrix)\n",
        "\n",
        "# Display the result\n",
        "print(\"Stationary Distribution:\", stationary_distribution)\n"
      ],
      "metadata": {
        "colab": {
          "base_uri": "https://localhost:8080/"
        },
        "id": "Fv0OolD0FTd_",
        "outputId": "f4112d1e-9a62-42ed-9dbb-a601fabe8e9f"
      },
      "execution_count": 4,
      "outputs": [
        {
          "output_type": "stream",
          "name": "stdout",
          "text": [
            "Stationary Distribution: [0.09090909 0.09090909 0.09090909 0.09090909 0.09090909 0.09090909\n",
            " 0.09090909 0.09090909 0.09090909 0.09090909 0.09090909]\n"
          ]
        }
      ]
    },
    {
      "cell_type": "code",
      "source": [],
      "metadata": {
        "id": "z6pRy_LyFjZg"
      },
      "execution_count": null,
      "outputs": []
    }
  ]
}