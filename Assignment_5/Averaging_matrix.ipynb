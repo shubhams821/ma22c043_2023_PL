{
  "nbformat": 4,
  "nbformat_minor": 0,
  "metadata": {
    "colab": {
      "provenance": [],
      "authorship_tag": "ABX9TyONOti6Gptzkox9KMgp/kYf"
    },
    "kernelspec": {
      "name": "python3",
      "display_name": "Python 3"
    },
    "language_info": {
      "name": "python"
    }
  },
  "cells": [
    {
      "cell_type": "code",
      "source": [
        "def get_diag_mat(n,k):\n",
        "  y = np.diag(np.ones(n))\n",
        "  for i in range(1,k):\n",
        "    y = y+ np.diag(np.ones(n-i),i) +np.diag(np.ones(n-i),-i)\n",
        "  return y"
      ],
      "metadata": {
        "id": "9wk_4u4ikbMz"
      },
      "execution_count": 161,
      "outputs": []
    },
    {
      "cell_type": "code",
      "source": [
        "def get_avg_mat(y):\n",
        "  avg = np.sum(y,1)\n",
        "  for i in range(len(avg)):\n",
        "    y[i,:] = y[i,:]/avg[i]\n",
        "  return y\n"
      ],
      "metadata": {
        "id": "ZJboHq6VlNk3"
      },
      "execution_count": 162,
      "outputs": []
    },
    {
      "cell_type": "code",
      "source": [
        "def get_vec(n):\n",
        "  x = np.zeros(n)\n",
        "  for i in range(n):\n",
        "    x[i] = (-1)**i\n",
        "  return x"
      ],
      "metadata": {
        "id": "KLrpGB12lfkn"
      },
      "execution_count": 163,
      "outputs": []
    },
    {
      "cell_type": "code",
      "execution_count": 164,
      "metadata": {
        "id": "T7m1Jey0HNpt"
      },
      "outputs": [],
      "source": [
        "import numpy as np\n",
        "n = 6\n",
        "k =2"
      ]
    },
    {
      "cell_type": "code",
      "source": [
        "y = get_diag_mat(n,k)"
      ],
      "metadata": {
        "id": "FNDjcfxbiVIG"
      },
      "execution_count": 165,
      "outputs": []
    },
    {
      "cell_type": "code",
      "source": [
        "y = get_avg_mat(y)"
      ],
      "metadata": {
        "id": "-qj4wff3IQbk"
      },
      "execution_count": 166,
      "outputs": []
    },
    {
      "cell_type": "code",
      "source": [
        "x = get_vec(n)\n",
        "np.matmul(y,x)"
      ],
      "metadata": {
        "id": "XZIl-F9zIcTk",
        "colab": {
          "base_uri": "https://localhost:8080/"
        },
        "outputId": "86776c19-c789-4bec-fe05-5a786e4e6a4b"
      },
      "execution_count": 167,
      "outputs": [
        {
          "output_type": "execute_result",
          "data": {
            "text/plain": [
              "array([ 0.        ,  0.33333333, -0.33333333,  0.33333333, -0.33333333,\n",
              "        0.        ])"
            ]
          },
          "metadata": {},
          "execution_count": 167
        }
      ]
    },
    {
      "cell_type": "markdown",
      "source": [
        "Ques 1: Apply A to a vector x whose entries are\n",
        "xj = (−1)^j , say for n = 20, and k = 2. and comment on the resulting vector."
      ],
      "metadata": {
        "id": "6piJMpvogSTy"
      }
    },
    {
      "cell_type": "code",
      "source": [
        "n = 20\n",
        "k =2"
      ],
      "metadata": {
        "id": "3aRqKh28fWd1"
      },
      "execution_count": 168,
      "outputs": []
    },
    {
      "cell_type": "code",
      "source": [
        "y = get_diag_mat(n,k)"
      ],
      "metadata": {
        "id": "EPGfKipWge-r"
      },
      "execution_count": 169,
      "outputs": []
    },
    {
      "cell_type": "code",
      "source": [
        "\n",
        "y = get_avg_mat(y)"
      ],
      "metadata": {
        "id": "DC4c_iz8gnmc"
      },
      "execution_count": 170,
      "outputs": []
    },
    {
      "cell_type": "code",
      "source": [
        "x=get_vec(n)\n",
        "np.matmul(y,x)"
      ],
      "metadata": {
        "colab": {
          "base_uri": "https://localhost:8080/"
        },
        "id": "aEqP30njgp53",
        "outputId": "c0508bff-1c52-4822-cdc7-5dc0ade6314a"
      },
      "execution_count": 171,
      "outputs": [
        {
          "output_type": "execute_result",
          "data": {
            "text/plain": [
              "array([ 0.        ,  0.33333333, -0.33333333,  0.33333333, -0.33333333,\n",
              "        0.33333333, -0.33333333,  0.33333333, -0.33333333,  0.33333333,\n",
              "       -0.33333333,  0.33333333, -0.33333333,  0.33333333, -0.33333333,\n",
              "        0.33333333, -0.33333333,  0.33333333, -0.33333333,  0.        ])"
            ]
          },
          "metadata": {},
          "execution_count": 171
        }
      ]
    },
    {
      "cell_type": "code",
      "source": [
        "n = 20\n",
        "k =3\n",
        "y = get_diag_mat(n,k)\n",
        "y = get_avg_mat(y)\n",
        "x=get_vec(n)\n",
        "np.matmul(y,x)"
      ],
      "metadata": {
        "colab": {
          "base_uri": "https://localhost:8080/"
        },
        "id": "6btIt90xmjw3",
        "outputId": "b7ed4087-b9a5-4c14-c50c-002fecdb13ae"
      },
      "execution_count": 172,
      "outputs": [
        {
          "output_type": "execute_result",
          "data": {
            "text/plain": [
              "array([ 0.33333333,  0.        ,  0.2       , -0.2       ,  0.2       ,\n",
              "       -0.2       ,  0.2       , -0.2       ,  0.2       , -0.2       ,\n",
              "        0.2       , -0.2       ,  0.2       , -0.2       ,  0.2       ,\n",
              "       -0.2       ,  0.2       , -0.2       ,  0.        , -0.33333333])"
            ]
          },
          "metadata": {},
          "execution_count": 172
        }
      ]
    },
    {
      "cell_type": "code",
      "source": [
        "n = 20\n",
        "k =4\n",
        "y = get_diag_mat(n,k)\n",
        "y = get_avg_mat(y)\n",
        "x=get_vec(n)\n",
        "np.matmul(y,x)"
      ],
      "metadata": {
        "colab": {
          "base_uri": "https://localhost:8080/"
        },
        "id": "gm6q2Vstms-p",
        "outputId": "7e084dcc-858f-4862-878c-610a0fcc7bc6"
      },
      "execution_count": 173,
      "outputs": [
        {
          "output_type": "execute_result",
          "data": {
            "text/plain": [
              "array([ 0.        ,  0.2       ,  0.        ,  0.14285714, -0.14285714,\n",
              "        0.14285714, -0.14285714,  0.14285714, -0.14285714,  0.14285714,\n",
              "       -0.14285714,  0.14285714, -0.14285714,  0.14285714, -0.14285714,\n",
              "        0.14285714, -0.14285714,  0.        , -0.2       ,  0.        ])"
            ]
          },
          "metadata": {},
          "execution_count": 173
        }
      ]
    },
    {
      "cell_type": "code",
      "source": [
        "n = 20\n",
        "k =5\n",
        "y = get_diag_mat(n,k)\n",
        "y = get_avg_mat(y)\n",
        "x=get_vec(n)\n",
        "np.matmul(y,x)"
      ],
      "metadata": {
        "colab": {
          "base_uri": "https://localhost:8080/"
        },
        "id": "bL2qVb4CmvRx",
        "outputId": "5fb8e2f3-3601-4f72-a91a-7ec1cd40bfa4"
      },
      "execution_count": 174,
      "outputs": [
        {
          "output_type": "execute_result",
          "data": {
            "text/plain": [
              "array([ 0.2       ,  0.        ,  0.14285714,  0.        ,  0.11111111,\n",
              "       -0.11111111,  0.11111111, -0.11111111,  0.11111111, -0.11111111,\n",
              "        0.11111111, -0.11111111,  0.11111111, -0.11111111,  0.11111111,\n",
              "       -0.11111111,  0.        , -0.14285714,  0.        , -0.2       ])"
            ]
          },
          "metadata": {},
          "execution_count": 174
        }
      ]
    },
    {
      "cell_type": "markdown",
      "source": [
        "Ques 2:Apply A to a vector whose entries are values of f (x) = x2 + 2 sin(10x), say at n = 1000 equally spaced points in the interval [0, 10] and k = 100."
      ],
      "metadata": {
        "id": "kmgE5GT_jCmZ"
      }
    },
    {
      "cell_type": "code",
      "source": [
        "x = np.linspace(0,10,1000)"
      ],
      "metadata": {
        "id": "SkB4uN76gu1S"
      },
      "execution_count": 175,
      "outputs": []
    },
    {
      "cell_type": "code",
      "source": [
        "f_x = x**2 + 2*np.sin(10*x)"
      ],
      "metadata": {
        "id": "-lCQoYZCjOm0"
      },
      "execution_count": 176,
      "outputs": []
    },
    {
      "cell_type": "code",
      "source": [
        "f_x.shape"
      ],
      "metadata": {
        "colab": {
          "base_uri": "https://localhost:8080/"
        },
        "id": "INW17QQ5jrpH",
        "outputId": "9d55b928-e889-4597-ad72-ec2e15258c43"
      },
      "execution_count": 177,
      "outputs": [
        {
          "output_type": "execute_result",
          "data": {
            "text/plain": [
              "(1000,)"
            ]
          },
          "metadata": {},
          "execution_count": 177
        }
      ]
    },
    {
      "cell_type": "code",
      "source": [
        "f_x.reshape(1000,1);"
      ],
      "metadata": {
        "id": "QqXKK1qejT7k"
      },
      "execution_count": 178,
      "outputs": []
    },
    {
      "cell_type": "code",
      "source": [
        "n = 1000\n",
        "k = 97\n",
        "y = get_diag_mat(n,k)\n",
        "y = get_avg_mat(y)\n",
        "\n",
        "\n"
      ],
      "metadata": {
        "id": "eZEooFGqkX6F"
      },
      "execution_count": 179,
      "outputs": []
    },
    {
      "cell_type": "code",
      "source": [
        "y1 = np.matmul(y,f_x)"
      ],
      "metadata": {
        "id": "wFm-cnBojm7Q"
      },
      "execution_count": 180,
      "outputs": []
    },
    {
      "cell_type": "code",
      "source": [
        "x = np.linspace(0,10,1000)\n",
        "f_x = x**2 + 2*np.sin(10*x)\n",
        "f_x.reshape(1000,1);\n",
        "n = 1000\n",
        "k = 98\n",
        "y = get_diag_mat(n,k)\n",
        "y = get_avg_mat(y)\n",
        "y2 = np.matmul(y,f_x)"
      ],
      "metadata": {
        "id": "EXiJVpwFlC91"
      },
      "execution_count": 181,
      "outputs": []
    },
    {
      "cell_type": "code",
      "source": [
        "n = 1000\n",
        "k = 99\n",
        "y = get_diag_mat(n,k)\n",
        "y = get_avg_mat(y)\n",
        "y3=np.matmul(y,f_x)"
      ],
      "metadata": {
        "id": "S1u1jqCWnAd7"
      },
      "execution_count": 182,
      "outputs": []
    },
    {
      "cell_type": "code",
      "source": [
        "n = 1000\n",
        "k = 100\n",
        "y = get_diag_mat(n,k)\n",
        "y = get_avg_mat(y)\n",
        "y4=np.matmul(y,f_x)"
      ],
      "metadata": {
        "id": "EVF1wukAnCQO"
      },
      "execution_count": 183,
      "outputs": []
    },
    {
      "cell_type": "code",
      "source": [
        "n = 1000\n",
        "k = 101\n",
        "y = get_diag_mat(n,k)\n",
        "y = get_avg_mat(y)\n",
        "y5 = np.matmul(y,f_x)"
      ],
      "metadata": {
        "id": "-jOclNHLnD7R"
      },
      "execution_count": 184,
      "outputs": []
    },
    {
      "cell_type": "code",
      "source": [
        "n = 1000\n",
        "k = 102\n",
        "y = get_diag_mat(n,k)\n",
        "y = get_avg_mat(y)\n",
        "y6 = np.matmul(y,f_x)"
      ],
      "metadata": {
        "id": "vcLn8pZLnFd2"
      },
      "execution_count": 185,
      "outputs": []
    },
    {
      "cell_type": "code",
      "source": [
        "n = 1000\n",
        "k = 103\n",
        "y = get_diag_mat(n,k)\n",
        "y = get_avg_mat(y)\n",
        "y7=np.matmul(y,f_x)"
      ],
      "metadata": {
        "id": "w1rr8JTjnG2f"
      },
      "execution_count": 186,
      "outputs": []
    },
    {
      "cell_type": "code",
      "source": [
        "max(y2-y1), min(y2-y1)"
      ],
      "metadata": {
        "colab": {
          "base_uri": "https://localhost:8080/"
        },
        "id": "XIMFw3vbozKt",
        "outputId": "0a60eca2-7ab3-4ea0-b97b-4f756db7fa61"
      },
      "execution_count": 188,
      "outputs": [
        {
          "output_type": "execute_result",
          "data": {
            "text/plain": [
              "(0.025670962829863697, -0.10499200986338053)"
            ]
          },
          "metadata": {},
          "execution_count": 188
        }
      ]
    },
    {
      "cell_type": "code",
      "source": [
        "max(y3-y2), min(y3-y2)"
      ],
      "metadata": {
        "colab": {
          "base_uri": "https://localhost:8080/"
        },
        "id": "Gj2Q8TO6o3Up",
        "outputId": "046485a9-6e8e-421b-9f85-6b0e74339929"
      },
      "execution_count": 189,
      "outputs": [
        {
          "output_type": "execute_result",
          "data": {
            "text/plain": [
              "(0.024680185133149735, -0.10499200986338053)"
            ]
          },
          "metadata": {},
          "execution_count": 189
        }
      ]
    },
    {
      "cell_type": "code",
      "source": [
        "max(y4-y3), min(y4-y3)"
      ],
      "metadata": {
        "colab": {
          "base_uri": "https://localhost:8080/"
        },
        "id": "UYtcLwxTpKGC",
        "outputId": "6797656f-cb57-421b-dbd8-4787819f2aa1"
      },
      "execution_count": 190,
      "outputs": [
        {
          "output_type": "execute_result",
          "data": {
            "text/plain": [
              "(0.023534788147188124, -0.10499200986338053)"
            ]
          },
          "metadata": {},
          "execution_count": 190
        }
      ]
    },
    {
      "cell_type": "code",
      "source": [
        "max(y5-y4), min(y5-y4)"
      ],
      "metadata": {
        "colab": {
          "base_uri": "https://localhost:8080/"
        },
        "id": "Uzw2aEi_pRM9",
        "outputId": "cd91b42d-8108-41e6-b9d2-2172188eb098"
      },
      "execution_count": 191,
      "outputs": [
        {
          "output_type": "execute_result",
          "data": {
            "text/plain": [
              "(0.0225754898523981, -0.10499200986338053)"
            ]
          },
          "metadata": {},
          "execution_count": 191
        }
      ]
    },
    {
      "cell_type": "code",
      "source": [
        "max(y6-y5),min(y6-y5)"
      ],
      "metadata": {
        "colab": {
          "base_uri": "https://localhost:8080/"
        },
        "id": "zSCvAPavpYnQ",
        "outputId": "0b38b1a4-6cae-4816-f649-317b644511ea"
      },
      "execution_count": 192,
      "outputs": [
        {
          "output_type": "execute_result",
          "data": {
            "text/plain": [
              "(0.0225754898523981, -0.10499200986338053)"
            ]
          },
          "metadata": {},
          "execution_count": 192
        }
      ]
    },
    {
      "cell_type": "code",
      "source": [
        "max(y7-y6), min(y7-y6)"
      ],
      "metadata": {
        "colab": {
          "base_uri": "https://localhost:8080/"
        },
        "id": "XU44bQyYpffW",
        "outputId": "e703ba04-8bb6-4a66-8275-18cd476f4713"
      },
      "execution_count": 193,
      "outputs": [
        {
          "output_type": "execute_result",
          "data": {
            "text/plain": [
              "(0.022888754704571523, -0.10499200986338053)"
            ]
          },
          "metadata": {},
          "execution_count": 193
        }
      ]
    },
    {
      "cell_type": "code",
      "source": [
        "import matplotlib.pyplot as plt\n",
        "plt.plot(x,f_x)"
      ],
      "metadata": {
        "colab": {
          "base_uri": "https://localhost:8080/",
          "height": 447
        },
        "id": "9GwCiSPbpi09",
        "outputId": "733579ac-4542-482e-b951-4b0f06411d91"
      },
      "execution_count": 197,
      "outputs": [
        {
          "output_type": "execute_result",
          "data": {
            "text/plain": [
              "[<matplotlib.lines.Line2D at 0x792d01e107f0>]"
            ]
          },
          "metadata": {},
          "execution_count": 197
        },
        {
          "output_type": "display_data",
          "data": {
            "text/plain": [
              "<Figure size 640x480 with 1 Axes>"
            ],
            "image/png": "[encoded data removed]"
          },
          "metadata": {}
        }
      ]
    },
    {
      "cell_type": "code",
      "source": [
        "plt.figure()\n",
        "plt.subplot(141)\n",
        "plt.title('n =1000,k=97')\n",
        "plt.plot(x,y1)\n",
        "plt.grid(True)\n",
        "\n",
        "plt.subplot(142)\n",
        "plt.plot(x,y2)\n",
        "plt.title('n =1000,k=98')\n",
        "plt.grid(True)\n",
        "\n",
        "plt.subplot(143)\n",
        "plt.plot(x,y3)\n",
        "plt.title('n =1000,k=99')\n",
        "plt.grid(True)\n",
        "\n",
        "plt.subplot(144)\n",
        "plt.plot(x,y4)\n",
        "plt.title('n =1000,k=100')\n",
        "plt.grid(True)\n",
        "\n",
        "plt.subplots_adjust(top=0.92, bottom=0.08, left=0.10, right=0.95, hspace=0.45,wspace=0.35)"
      ],
      "metadata": {
        "colab": {
          "base_uri": "https://localhost:8080/",
          "height": 486
        },
        "id": "bk76jcGNpnlw",
        "outputId": "9df3df65-18d7-47b1-900c-7dd8d2a81d1c"
      },
      "execution_count": 214,
      "outputs": [
        {
          "output_type": "display_data",
          "data": {
            "text/plain": [
              "<Figure size 640x480 with 4 Axes>"
            ],
            "image/png": "[encoded data removed]"
          },
          "metadata": {}
        }
      ]
    },
    {
      "cell_type": "code",
      "source": [
        "plt.figure()\n",
        "plt.subplot(141)\n",
        "plt.title('n =1000,k=101')\n",
        "plt.plot(x,y5)\n",
        "plt.grid(True)\n",
        "\n",
        "plt.subplot(142)\n",
        "plt.plot(x,y6)\n",
        "plt.title('n =1000,k=102')\n",
        "plt.grid(True)\n",
        "\n",
        "plt.subplot(143)\n",
        "plt.plot(x,y7)\n",
        "plt.title('n =1000,k=103')\n",
        "plt.grid(True)\n",
        "\n",
        "plt.subplot(144)\n",
        "plt.plot(x,f_x)\n",
        "plt.title('Actual Graph')\n",
        "plt.grid(True)\n",
        "plt.subplots_adjust(top=0.92, bottom=0.08, left=0.10, right=0.95, hspace=0.45,wspace=0.35)"
      ],
      "metadata": {
        "colab": {
          "base_uri": "https://localhost:8080/",
          "height": 486
        },
        "id": "4LLcqLNKqgow",
        "outputId": "2dedadf2-01c3-4219-fb23-fbb669019867"
      },
      "execution_count": 217,
      "outputs": [
        {
          "output_type": "display_data",
          "data": {
            "text/plain": [
              "<Figure size 640x480 with 4 Axes>"
            ],
            "image/png": "[encoded data removed]"
          },
          "metadata": {}
        }
      ]
    },
    {
      "cell_type": "markdown",
      "source": [
        "**Average matrix take the average value of f(x) with respect to given k, increasing k will result in smoothing the function.**"
      ],
      "metadata": {
        "id": "F-pNxvmR00kd"
      }
    },
    {
      "cell_type": "code",
      "source": [
        "n = 1000\n",
        "k = 300\n",
        "y = get_diag_mat(n,k)\n",
        "y = get_avg_mat(y)\n",
        "y8=np.matmul(y,f_x)\n",
        "n = 1000\n",
        "k = 25\n",
        "y = get_diag_mat(n,k)\n",
        "y = get_avg_mat(y)\n",
        "y9=np.matmul(y,f_x)"
      ],
      "metadata": {
        "id": "mJdoFOFQsozq"
      },
      "execution_count": 226,
      "outputs": []
    },
    {
      "cell_type": "code",
      "source": [
        "\n",
        "plt.plot(x,y8,label ='n =1000,k=300')\n",
        "plt.plot(x,y9,label = 'n =1000,k=25')\n",
        "plt.legend(loc='best')"
      ],
      "metadata": {
        "colab": {
          "base_uri": "https://localhost:8080/",
          "height": 449
        },
        "id": "Xbm599RT1Xu4",
        "outputId": "8a28a2c2-aa58-415c-d396-32fb3f9b7d1b"
      },
      "execution_count": 228,
      "outputs": [
        {
          "output_type": "execute_result",
          "data": {
            "text/plain": [
              "<matplotlib.legend.Legend at 0x792cfe321270>"
            ]
          },
          "metadata": {},
          "execution_count": 228
        },
        {
          "output_type": "display_data",
          "data": {
            "text/plain": [
              "<Figure size 640x480 with 1 Axes>"
            ],
            "image/png": "[encoded data removed]"
          },
          "metadata": {}
        }
      ]
    },
    {
      "cell_type": "code",
      "source": [],
      "metadata": {
        "id": "GRnQyXMO1dVc"
      },
      "execution_count": null,
      "outputs": []
    }
  ]
}