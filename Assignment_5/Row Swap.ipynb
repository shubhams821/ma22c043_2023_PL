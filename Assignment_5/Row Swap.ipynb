{
  "nbformat": 4,
  "nbformat_minor": 0,
  "metadata": {
    "colab": {
      "provenance": [],
      "authorship_tag": "ABX9TyOJcY9MExC/x2PiNw5o8ilF"
    },
    "kernelspec": {
      "name": "python3",
      "display_name": "Python 3"
    },
    "language_info": {
      "name": "python"
    }
  },
  "cells": [
    {
      "cell_type": "markdown",
      "source": [
        "**Row Swap**"
      ],
      "metadata": {
        "id": "B7y---Pd2yub"
      }
    },
    {
      "cell_type": "code",
      "source": [
        "import numpy as np"
      ],
      "metadata": {
        "id": "w0hrmq5v1FoE"
      },
      "execution_count": null,
      "outputs": []
    },
    {
      "cell_type": "code",
      "execution_count": null,
      "metadata": {
        "id": "6owpwI8j0w-l"
      },
      "outputs": [],
      "source": [
        "def swaprow(i, j, A):\n",
        "  tmp = A[i, :]                         # address of tmp and A[i,:] are same\n",
        "  A[i, :] = A[j, :]                     # A[i,:]= A[j,:]  just means tmp = A[j,:]\n",
        "  A[j, :] = tmp                         # this means A[j,:] = tmp = A[i,:] = [7,8,9]\n",
        "  return A"
      ]
    },
    {
      "cell_type": "code",
      "source": [
        "A=np.array([[1,2,3],[4,5,6],[7,8,9]])\n",
        "print(A)"
      ],
      "metadata": {
        "colab": {
          "base_uri": "https://localhost:8080/"
        },
        "id": "2atweE6J0-Ky",
        "outputId": "2f6dcacf-2076-446c-a4d5-74960535d22b"
      },
      "execution_count": null,
      "outputs": [
        {
          "output_type": "stream",
          "name": "stdout",
          "text": [
            "[[1 2 3]\n",
            " [4 5 6]\n",
            " [7 8 9]]\n"
          ]
        }
      ]
    },
    {
      "cell_type": "code",
      "source": [
        "swaprow(1,2,A)"
      ],
      "metadata": {
        "colab": {
          "base_uri": "https://localhost:8080/"
        },
        "id": "DdtGmeLv1EIY",
        "outputId": "19ae96f0-8fd9-4a0e-986d-6cd466e97ae6"
      },
      "execution_count": null,
      "outputs": [
        {
          "output_type": "execute_result",
          "data": {
            "text/plain": [
              "array([[1, 2, 3],\n",
              "       [7, 8, 9],\n",
              "       [7, 8, 9]])"
            ]
          },
          "metadata": {},
          "execution_count": 4
        }
      ]
    },
    {
      "cell_type": "code",
      "source": [
        "# to solve the problem we could use built-in function\n",
        "\n",
        "def swaprow_1(i, j, A):\n",
        "  A[[i,j]] = A[[j,i]]\n",
        "  return A"
      ],
      "metadata": {
        "id": "3SbVxCl11QBF"
      },
      "execution_count": null,
      "outputs": []
    },
    {
      "cell_type": "code",
      "source": [
        "A=np.array([[1,2,3],[4,5,6],[7,8,9]])\n",
        "print(A)"
      ],
      "metadata": {
        "colab": {
          "base_uri": "https://localhost:8080/"
        },
        "id": "QpA_KijX5LN-",
        "outputId": "8c58c5d7-89ab-478b-9139-3225089cfad9"
      },
      "execution_count": null,
      "outputs": [
        {
          "output_type": "stream",
          "name": "stdout",
          "text": [
            "[[1 2 3]\n",
            " [4 5 6]\n",
            " [7 8 9]]\n"
          ]
        }
      ]
    },
    {
      "cell_type": "code",
      "source": [
        "swaprow_1(1,2,A)"
      ],
      "metadata": {
        "colab": {
          "base_uri": "https://localhost:8080/"
        },
        "id": "vWrEZr8i4swF",
        "outputId": "10d84f07-e04c-439e-e6a7-9e69d97b0204"
      },
      "execution_count": null,
      "outputs": [
        {
          "output_type": "execute_result",
          "data": {
            "text/plain": [
              "array([[1, 2, 3],\n",
              "       [7, 8, 9],\n",
              "       [4, 5, 6]])"
            ]
          },
          "metadata": {},
          "execution_count": 7
        }
      ]
    },
    {
      "cell_type": "code",
      "source": [],
      "metadata": {
        "id": "-Jc0QjTU6z2O"
      },
      "execution_count": null,
      "outputs": []
    }
  ]
}