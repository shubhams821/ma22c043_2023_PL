{
  "nbformat": 4,
  "nbformat_minor": 0,
  "metadata": {
    "colab": {
      "provenance": []
    },
    "kernelspec": {
      "name": "python3",
      "display_name": "Python 3"
    },
    "language_info": {
      "name": "python"
    }
  },
  "cells": [
    {
      "cell_type": "code",
      "execution_count": 3,
      "metadata": {
        "colab": {
          "base_uri": "https://localhost:8080/"
        },
        "id": "HQHXecYohzac",
        "outputId": "c1ed11f7-9d33-48d4-9c5c-28b67978be72"
      },
      "outputs": [
        {
          "output_type": "execute_result",
          "data": {
            "text/plain": [
              "array([[ 0.        ,  0.05514739,  0.25512993,  0.11747922,  0.49365388],\n",
              "       [-0.05514739,  0.        ,  0.19998254,  0.06233183,  0.43850649],\n",
              "       [-0.25512993, -0.19998254,  0.        , -0.13765071,  0.23852395],\n",
              "       [-0.11747922, -0.06233183,  0.13765071,  0.        ,  0.37617466],\n",
              "       [-0.49365388, -0.43850649, -0.23852395, -0.37617466,  0.        ]])"
            ]
          },
          "metadata": {},
          "execution_count": 3
        }
      ],
      "source": [
        "import numpy as np\n",
        "n =5\n",
        "x=np.random.rand(n)\n",
        "x\n",
        "j=0\n",
        "lst = np.array([[x[i]-x[j] for i in range(n)] for j in range(n) ])\n",
        "lst"
      ]
    },
    {
      "cell_type": "code",
      "source": [],
      "metadata": {
        "id": "NHwid7RNh1Ak"
      },
      "execution_count": null,
      "outputs": []
    }
  ]
}