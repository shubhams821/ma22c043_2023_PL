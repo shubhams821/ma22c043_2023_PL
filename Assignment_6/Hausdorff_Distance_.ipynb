{
  "nbformat": 4,
  "nbformat_minor": 0,
  "metadata": {
    "colab": {
      "provenance": []
    },
    "kernelspec": {
      "name": "python3",
      "display_name": "Python 3"
    },
    "language_info": {
      "name": "python"
    }
  },
  "cells": [
    {
      "cell_type": "code",
      "execution_count": null,
      "metadata": {
        "colab": {
          "base_uri": "https://localhost:8080/"
        },
        "id": "J0f7fX6FZkph",
        "outputId": "6595e767-409e-491e-ba58-77ce1a4eaa5c"
      },
      "outputs": [
        {
          "output_type": "stream",
          "name": "stdout",
          "text": [
            "Hausdorff Distance: 0.36453329814564395\n"
          ]
        }
      ],
      "source": [
        "import numpy as np\n",
        "from scipy.spatial import distance\n",
        "\n",
        "# Generate random sets of points P and Q (you can replace these with your actual point sets)\n",
        "P = np.random.rand(5, 2)\n",
        "Q = np.random.rand(7, 2)\n",
        "\n",
        "# Compute the Hausdorff distance\n",
        "hausdorff_distance = max(distance.cdist(P, Q).min(axis=1).max(), distance.cdist(Q, P).min(axis=1).max())\n",
        "\n",
        "print(\"Hausdorff Distance:\", hausdorff_distance)"
      ]
    }
  ]
}