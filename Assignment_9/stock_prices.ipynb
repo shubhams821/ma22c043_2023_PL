{
  "nbformat": 4,
  "nbformat_minor": 0,
  "metadata": {
    "colab": {
      "provenance": [],
      "authorship_tag": "ABX9TyM2atbQA1MtlwI+VVeSSpCw"
    },
    "kernelspec": {
      "name": "python3",
      "display_name": "Python 3"
    },
    "language_info": {
      "name": "python"
    }
  },
  "cells": [
    {
      "cell_type": "code",
      "execution_count": null,
      "metadata": {
        "id": "d-ixRaxf4Bsq"
      },
      "outputs": [],
      "source": [
        "import pandas as pd\n",
        "%matplotlib inline"
      ]
    },
    {
      "cell_type": "code",
      "source": [
        "!pip install pandas_datareader"
      ],
      "metadata": {
        "colab": {
          "base_uri": "https://localhost:8080/"
        },
        "id": "kuN9ZF8B4qvY",
        "outputId": "f67e9699-7c86-4089-8675-de7cb188a8e4"
      },
      "execution_count": null,
      "outputs": [
        {
          "output_type": "stream",
          "name": "stdout",
          "text": [
            "Requirement already satisfied: pandas_datareader in /usr/local/lib/python3.10/dist-packages (0.10.0)\n",
            "Requirement already satisfied: lxml in /usr/local/lib/python3.10/dist-packages (from pandas_datareader) (4.9.3)\n",
            "Requirement already satisfied: pandas>=0.23 in /usr/local/lib/python3.10/dist-packages (from pandas_datareader) (1.5.3)\n",
            "Requirement already satisfied: requests>=2.19.0 in /usr/local/lib/python3.10/dist-packages (from pandas_datareader) (2.31.0)\n",
            "Requirement already satisfied: python-dateutil>=2.8.1 in /usr/local/lib/python3.10/dist-packages (from pandas>=0.23->pandas_datareader) (2.8.2)\n",
            "Requirement already satisfied: pytz>=2020.1 in /usr/local/lib/python3.10/dist-packages (from pandas>=0.23->pandas_datareader) (2023.3.post1)\n",
            "Requirement already satisfied: numpy>=1.21.0 in /usr/local/lib/python3.10/dist-packages (from pandas>=0.23->pandas_datareader) (1.23.5)\n",
            "Requirement already satisfied: charset-normalizer<4,>=2 in /usr/local/lib/python3.10/dist-packages (from requests>=2.19.0->pandas_datareader) (3.2.0)\n",
            "Requirement already satisfied: idna<4,>=2.5 in /usr/local/lib/python3.10/dist-packages (from requests>=2.19.0->pandas_datareader) (3.4)\n",
            "Requirement already satisfied: urllib3<3,>=1.21.1 in /usr/local/lib/python3.10/dist-packages (from requests>=2.19.0->pandas_datareader) (2.0.4)\n",
            "Requirement already satisfied: certifi>=2017.4.17 in /usr/local/lib/python3.10/dist-packages (from requests>=2.19.0->pandas_datareader) (2023.7.22)\n",
            "Requirement already satisfied: six>=1.5 in /usr/local/lib/python3.10/dist-packages (from python-dateutil>=2.8.1->pandas>=0.23->pandas_datareader) (1.16.0)\n"
          ]
        }
      ]
    },
    {
      "cell_type": "code",
      "source": [
        "import pandas\n",
        "from pandas_datareader import data as pdr\n",
        "import yfinance as yfin\n",
        "yfin.pdr_override()\n",
        "\n",
        "df = pdr.get_data_yahoo(['AAPL', 'GOOG', 'TSLA'], start=datetime(2017, 2, 9), end=datetime(2023, 10, 1))\n",
        "print(df)"
      ],
      "metadata": {
        "colab": {
          "base_uri": "https://localhost:8080/"
        },
        "id": "sbH45JTq4k9_",
        "outputId": "55361082-ae79-4ce4-8e1a-dcfaaba28959"
      },
      "execution_count": null,
      "outputs": [
        {
          "output_type": "stream",
          "name": "stdout",
          "text": [
            "[*********************100%%**********************]  3 of 3 completed\n",
            "             Adj Close                               Close              \\\n",
            "                  AAPL        GOOG        TSLA        AAPL        GOOG   \n",
            "Date                                                                     \n",
            "2017-02-09   30.983456   40.478001   17.946667   33.105000   40.478001   \n",
            "2017-02-10   30.913263   40.683498   17.948668   33.029999   40.683498   \n",
            "2017-02-13   31.187025   40.962002   18.706667   33.322498   40.962002   \n",
            "2017-02-14   31.591803   41.022499   18.732000   33.755001   41.022499   \n",
            "2017-02-15   31.706450   40.949001   18.650667   33.877499   40.949001   \n",
            "...                ...         ...         ...         ...         ...   \n",
            "2023-09-25  176.080002  132.169998  246.990005  176.080002  132.169998   \n",
            "2023-09-26  171.960007  129.449997  244.119995  171.960007  129.449997   \n",
            "2023-09-27  170.429993  131.460007  240.500000  170.429993  131.460007   \n",
            "2023-09-28  170.690002  133.130005  246.380005  170.690002  133.130005   \n",
            "2023-09-29  171.210007  131.850006  250.220001  171.210007  131.850006   \n",
            "\n",
            "                              High                                 Low  \\\n",
            "                  TSLA        AAPL        GOOG        TSLA        AAPL   \n",
            "Date                                                                     \n",
            "2017-02-09   17.946667   33.112499   40.533001   18.078667   32.779999   \n",
            "2017-02-10   17.948668   33.235001   40.762501   18.063334   33.012501   \n",
            "2017-02-13   18.706667   33.455002   41.047951   18.719334   33.187500   \n",
            "2017-02-14   18.732000   33.772499   41.150002   19.159332   33.312500   \n",
            "2017-02-15   18.650667   34.067501   41.150002   18.816000   33.654999   \n",
            "...                ...         ...         ...         ...         ...   \n",
            "2023-09-25  246.990005  176.970001  132.220001  247.100006  174.149994   \n",
            "2023-09-26  244.119995  175.199997  131.404999  249.550003  171.660004   \n",
            "2023-09-27  240.500000  173.039993  131.720001  245.330002  169.050003   \n",
            "2023-09-28  246.380005  172.029999  134.179993  247.550003  167.619995   \n",
            "2023-09-29  250.220001  173.070007  134.889999  254.770004  170.339996   \n",
            "\n",
            "                                          Open                          \\\n",
            "                  GOOG        TSLA        AAPL        GOOG        TSLA   \n",
            "Date                                                                     \n",
            "2017-02-09   40.227001   17.743334   32.912498   40.475498   17.750000   \n",
            "2017-02-10   40.488998   17.740667   33.115002   40.584999   17.986000   \n",
            "2017-02-13   40.774502   18.034000   33.270000   40.799999   18.049334   \n",
            "2017-02-14   40.799999   18.573999   33.367500   40.950001   18.601999   \n",
            "2017-02-15   40.923500   18.429333   33.880001   40.967999   18.666668   \n",
            "...                ...         ...         ...         ...         ...   \n",
            "2023-09-25  130.029999  238.309998  174.199997  130.770004  243.380005   \n",
            "2023-09-26  128.190002  241.660004  174.820007  130.914001  242.979996   \n",
            "2023-09-27  129.380005  234.580002  172.619995  129.440002  244.259995   \n",
            "2023-09-28  130.690002  238.649994  169.339996  130.690002  240.020004   \n",
            "2023-09-29  131.320007  246.350006  172.020004  134.080002  250.000000   \n",
            "\n",
            "               Volume                       \n",
            "                 AAPL      GOOG       TSLA  \n",
            "Date                                        \n",
            "2017-02-09  113399600  19794000  117303000  \n",
            "2017-02-10   80262000  22700000   54295500  \n",
            "2017-02-13   92141600  24266000  105444000  \n",
            "2017-02-14  132904800  21094000  110178000  \n",
            "2017-02-15  142492400  26272000   74218500  \n",
            "...               ...       ...        ...  \n",
            "2023-09-25   46172700  14650000  104636600  \n",
            "2023-09-26   64588900  20378800  101993600  \n",
            "2023-09-27   66921800  18764200  136597200  \n",
            "2023-09-28   56294400  18201400  117058900  \n",
            "2023-09-29   51814200  23224200  128346200  \n",
            "\n",
            "[1671 rows x 18 columns]\n"
          ]
        }
      ]
    },
    {
      "cell_type": "code",
      "source": [
        "df.columns"
      ],
      "metadata": {
        "colab": {
          "base_uri": "https://localhost:8080/"
        },
        "id": "Hp2zqY6v6ZkS",
        "outputId": "745ceb3c-68a0-4e32-b2ab-8f90ee99439d"
      },
      "execution_count": null,
      "outputs": [
        {
          "output_type": "execute_result",
          "data": {
            "text/plain": [
              "MultiIndex([('Adj Close', 'AAPL'),\n",
              "            ('Adj Close', 'GOOG'),\n",
              "            ('Adj Close', 'TSLA'),\n",
              "            (    'Close', 'AAPL'),\n",
              "            (    'Close', 'GOOG'),\n",
              "            (    'Close', 'TSLA'),\n",
              "            (     'High', 'AAPL'),\n",
              "            (     'High', 'GOOG'),\n",
              "            (     'High', 'TSLA'),\n",
              "            (      'Low', 'AAPL'),\n",
              "            (      'Low', 'GOOG'),\n",
              "            (      'Low', 'TSLA'),\n",
              "            (     'Open', 'AAPL'),\n",
              "            (     'Open', 'GOOG'),\n",
              "            (     'Open', 'TSLA'),\n",
              "            (   'Volume', 'AAPL'),\n",
              "            (   'Volume', 'GOOG'),\n",
              "            (   'Volume', 'TSLA')],\n",
              "           )"
            ]
          },
          "metadata": {},
          "execution_count": 40
        }
      ]
    },
    {
      "cell_type": "code",
      "source": [
        "df[('Close', 'AAPL')]"
      ],
      "metadata": {
        "colab": {
          "base_uri": "https://localhost:8080/"
        },
        "id": "9Vd1PpIR6bjv",
        "outputId": "72c6f634-e985-47ad-ff59-eb781511c10a"
      },
      "execution_count": null,
      "outputs": [
        {
          "output_type": "execute_result",
          "data": {
            "text/plain": [
              "Date\n",
              "2017-02-09     33.105000\n",
              "2017-02-10     33.029999\n",
              "2017-02-13     33.322498\n",
              "2017-02-14     33.755001\n",
              "2017-02-15     33.877499\n",
              "                 ...    \n",
              "2023-09-25    176.080002\n",
              "2023-09-26    171.960007\n",
              "2023-09-27    170.429993\n",
              "2023-09-28    170.690002\n",
              "2023-09-29    171.210007\n",
              "Name: (Close, AAPL), Length: 1671, dtype: float64"
            ]
          },
          "metadata": {},
          "execution_count": 31
        }
      ]
    },
    {
      "cell_type": "code",
      "source": [
        "pd.DataFrame.plot(df[('Close', 'AAPL')])"
      ],
      "metadata": {
        "colab": {
          "base_uri": "https://localhost:8080/"
        },
        "id": "NGFmmjmg64jV",
        "outputId": "ac8e178c-a13c-45d2-b671-6167a496aa5f"
      },
      "execution_count": null,
      "outputs": [
        {
          "output_type": "execute_result",
          "data": {
            "text/plain": [
              "<pandas.plotting._core.PlotAccessor object at 0x7c0e64810190>"
            ]
          },
          "metadata": {},
          "execution_count": 33
        }
      ]
    },
    {
      "cell_type": "code",
      "source": [
        "plot = df[('Close', 'AAPL')].plot()"
      ],
      "metadata": {
        "colab": {
          "base_uri": "https://localhost:8080/",
          "height": 422
        },
        "id": "MbzKwvM89JeS",
        "outputId": "a886185c-4bd5-46f8-a0b0-fb7c02490e4f"
      },
      "execution_count": null,
      "outputs": [
        {
          "output_type": "display_data",
          "data": {
            "text/plain": [
              "<Figure size 640x480 with 1 Axes>"
            ],
            "image/png": "[encoded data removed]"
          },
          "metadata": {}
        }
      ]
    },
    {
      "cell_type": "code",
      "source": [
        "df[[('Close', 'AAPL'),('Close', 'GOOG'),('Close', 'TSLA')]].iloc[-1, :]"
      ],
      "metadata": {
        "colab": {
          "base_uri": "https://localhost:8080/"
        },
        "id": "41UZ49B_9lRc",
        "outputId": "b96d73d2-8ee4-4811-9c09-81bb382ce5a8"
      },
      "execution_count": null,
      "outputs": [
        {
          "output_type": "execute_result",
          "data": {
            "text/plain": [
              "Close  AAPL    171.210007\n",
              "       GOOG    131.850006\n",
              "       TSLA    250.220001\n",
              "Name: 2023-09-29 00:00:00, dtype: float64"
            ]
          },
          "metadata": {},
          "execution_count": 54
        }
      ]
    },
    {
      "cell_type": "code",
      "source": [
        "tsla_data = df.xs('TSLA', level=1, axis=1)"
      ],
      "metadata": {
        "id": "OJhCeJvc_YTZ"
      },
      "execution_count": null,
      "outputs": []
    },
    {
      "cell_type": "code",
      "source": [
        "tsla_data"
      ],
      "metadata": {
        "id": "7IxMT2nCADSf",
        "outputId": "fda5b85b-6263-41b3-c1ea-0712940004c1",
        "colab": {
          "base_uri": "https://localhost:8080/",
          "height": 455
        }
      },
      "execution_count": null,
      "outputs": [
        {
          "output_type": "execute_result",
          "data": {
            "text/plain": [
              "             Adj Close       Close        High         Low        Open  \\\n",
              "Date                                                                     \n",
              "2017-02-09   17.946667   17.946667   18.078667   17.743334   17.750000   \n",
              "2017-02-10   17.948668   17.948668   18.063334   17.740667   17.986000   \n",
              "2017-02-13   18.706667   18.706667   18.719334   18.034000   18.049334   \n",
              "2017-02-14   18.732000   18.732000   19.159332   18.573999   18.601999   \n",
              "2017-02-15   18.650667   18.650667   18.816000   18.429333   18.666668   \n",
              "...                ...         ...         ...         ...         ...   \n",
              "2023-09-25  246.990005  246.990005  247.100006  238.309998  243.380005   \n",
              "2023-09-26  244.119995  244.119995  249.550003  241.660004  242.979996   \n",
              "2023-09-27  240.500000  240.500000  245.330002  234.580002  244.259995   \n",
              "2023-09-28  246.380005  246.380005  247.550003  238.649994  240.020004   \n",
              "2023-09-29  250.220001  250.220001  254.770004  246.350006  250.000000   \n",
              "\n",
              "               Volume  \n",
              "Date                   \n",
              "2017-02-09  117303000  \n",
              "2017-02-10   54295500  \n",
              "2017-02-13  105444000  \n",
              "2017-02-14  110178000  \n",
              "2017-02-15   74218500  \n",
              "...               ...  \n",
              "2023-09-25  104636600  \n",
              "2023-09-26  101993600  \n",
              "2023-09-27  136597200  \n",
              "2023-09-28  117058900  \n",
              "2023-09-29  128346200  \n",
              "\n",
              "[1671 rows x 6 columns]"
            ],
            "text/html": [
              "\n",
              "  <div id=\"df-f6cb01f0-d71b-4e81-be85-af38739d735b\" class=\"colab-df-container\">\n",
              "    <div>\n",
              "<style scoped>\n",
              "    .dataframe tbody tr th:only-of-type {\n",
              "        vertical-align: middle;\n",
              "    }\n",
              "\n",
              "    .dataframe tbody tr th {\n",
              "        vertical-align: top;\n",
              "    }\n",
              "\n",
              "    .dataframe thead th {\n",
              "        text-align: right;\n",
              "    }\n",
              "</style>\n",
              "<table border=\"1\" class=\"dataframe\">\n",
              "  <thead>\n",
              "    <tr style=\"text-align: right;\">\n",
              "      <th></th>\n",
              "      <th>Adj Close</th>\n",
              "      <th>Close</th>\n",
              "      <th>High</th>\n",
              "      <th>Low</th>\n",
              "      <th>Open</th>\n",
              "      <th>Volume</th>\n",
              "    </tr>\n",
              "    <tr>\n",
              "      <th>Date</th>\n",
              "      <th></th>\n",
              "      <th></th>\n",
              "      <th></th>\n",
              "      <th></th>\n",
              "      <th></th>\n",
              "      <th></th>\n",
              "    </tr>\n",
              "  </thead>\n",
              "  <tbody>\n",
              "    <tr>\n",
              "      <th>2017-02-09</th>\n",
              "      <td>17.946667</td>\n",
              "      <td>17.946667</td>\n",
              "      <td>18.078667</td>\n",
              "      <td>17.743334</td>\n",
              "      <td>17.750000</td>\n",
              "      <td>117303000</td>\n",
              "    </tr>\n",
              "    <tr>\n",
              "      <th>2017-02-10</th>\n",
              "      <td>17.948668</td>\n",
              "      <td>17.948668</td>\n",
              "      <td>18.063334</td>\n",
              "      <td>17.740667</td>\n",
              "      <td>17.986000</td>\n",
              "      <td>54295500</td>\n",
              "    </tr>\n",
              "    <tr>\n",
              "      <th>2017-02-13</th>\n",
              "      <td>18.706667</td>\n",
              "      <td>18.706667</td>\n",
              "      <td>18.719334</td>\n",
              "      <td>18.034000</td>\n",
              "      <td>18.049334</td>\n",
              "      <td>105444000</td>\n",
              "    </tr>\n",
              "    <tr>\n",
              "      <th>2017-02-14</th>\n",
              "      <td>18.732000</td>\n",
              "      <td>18.732000</td>\n",
              "      <td>19.159332</td>\n",
              "      <td>18.573999</td>\n",
              "      <td>18.601999</td>\n",
              "      <td>110178000</td>\n",
              "    </tr>\n",
              "    <tr>\n",
              "      <th>2017-02-15</th>\n",
              "      <td>18.650667</td>\n",
              "      <td>18.650667</td>\n",
              "      <td>18.816000</td>\n",
              "      <td>18.429333</td>\n",
              "      <td>18.666668</td>\n",
              "      <td>74218500</td>\n",
              "    </tr>\n",
              "    <tr>\n",
              "      <th>...</th>\n",
              "      <td>...</td>\n",
              "      <td>...</td>\n",
              "      <td>...</td>\n",
              "      <td>...</td>\n",
              "      <td>...</td>\n",
              "      <td>...</td>\n",
              "    </tr>\n",
              "    <tr>\n",
              "      <th>2023-09-25</th>\n",
              "      <td>246.990005</td>\n",
              "      <td>246.990005</td>\n",
              "      <td>247.100006</td>\n",
              "      <td>238.309998</td>\n",
              "      <td>243.380005</td>\n",
              "      <td>104636600</td>\n",
              "    </tr>\n",
              "    <tr>\n",
              "      <th>2023-09-26</th>\n",
              "      <td>244.119995</td>\n",
              "      <td>244.119995</td>\n",
              "      <td>249.550003</td>\n",
              "      <td>241.660004</td>\n",
              "      <td>242.979996</td>\n",
              "      <td>101993600</td>\n",
              "    </tr>\n",
              "    <tr>\n",
              "      <th>2023-09-27</th>\n",
              "      <td>240.500000</td>\n",
              "      <td>240.500000</td>\n",
              "      <td>245.330002</td>\n",
              "      <td>234.580002</td>\n",
              "      <td>244.259995</td>\n",
              "      <td>136597200</td>\n",
              "    </tr>\n",
              "    <tr>\n",
              "      <th>2023-09-28</th>\n",
              "      <td>246.380005</td>\n",
              "      <td>246.380005</td>\n",
              "      <td>247.550003</td>\n",
              "      <td>238.649994</td>\n",
              "      <td>240.020004</td>\n",
              "      <td>117058900</td>\n",
              "    </tr>\n",
              "    <tr>\n",
              "      <th>2023-09-29</th>\n",
              "      <td>250.220001</td>\n",
              "      <td>250.220001</td>\n",
              "      <td>254.770004</td>\n",
              "      <td>246.350006</td>\n",
              "      <td>250.000000</td>\n",
              "      <td>128346200</td>\n",
              "    </tr>\n",
              "  </tbody>\n",
              "</table>\n",
              "<p>1671 rows × 6 columns</p>\n",
              "</div>\n",
              "    <div class=\"colab-df-buttons\">\n",
              "\n",
              "  <div class=\"colab-df-container\">\n",
              "    <button class=\"colab-df-convert\" onclick=\"convertToInteractive('df-f6cb01f0-d71b-4e81-be85-af38739d735b')\"\n",
              "            title=\"Convert this dataframe to an interactive table.\"\n",
              "            style=\"display:none;\">\n",
              "\n",
              "  <svg xmlns=\"http://www.w3.org/2000/svg\" height=\"24px\" viewBox=\"0 -960 960 960\">\n",
              "    <path d=\"M120-120v-720h720v720H120Zm60-500h600v-160H180v160Zm220 220h160v-160H400v160Zm0 220h160v-160H400v160ZM180-400h160v-160H180v160Zm440 0h160v-160H620v160ZM180-180h160v-160H180v160Zm440 0h160v-160H620v160Z\"/>\n",
              "  </svg>\n",
              "    </button>\n",
              "\n",
              "  <style>\n",
              "    .colab-df-container {\n",
              "      display:flex;\n",
              "      gap: 12px;\n",
              "    }\n",
              "\n",
              "    .colab-df-convert {\n",
              "      background-color: #E8F0FE;\n",
              "      border: none;\n",
              "      border-radius: 50%;\n",
              "      cursor: pointer;\n",
              "      display: none;\n",
              "      fill: #1967D2;\n",
              "      height: 32px;\n",
              "      padding: 0 0 0 0;\n",
              "      width: 32px;\n",
              "    }\n",
              "\n",
              "    .colab-df-convert:hover {\n",
              "      background-color: #E2EBFA;\n",
              "      box-shadow: 0px 1px 2px rgba(60, 64, 67, 0.3), 0px 1px 3px 1px rgba(60, 64, 67, 0.15);\n",
              "      fill: #174EA6;\n",
              "    }\n",
              "\n",
              "    .colab-df-buttons div {\n",
              "      margin-bottom: 4px;\n",
              "    }\n",
              "\n",
              "    [theme=dark] .colab-df-convert {\n",
              "      background-color: #3B4455;\n",
              "      fill: #D2E3FC;\n",
              "    }\n",
              "\n",
              "    [theme=dark] .colab-df-convert:hover {\n",
              "      background-color: #434B5C;\n",
              "      box-shadow: 0px 1px 3px 1px rgba(0, 0, 0, 0.15);\n",
              "      filter: drop-shadow(0px 1px 2px rgba(0, 0, 0, 0.3));\n",
              "      fill: #FFFFFF;\n",
              "    }\n",
              "  </style>\n",
              "\n",
              "    <script>\n",
              "      const buttonEl =\n",
              "        document.querySelector('#df-f6cb01f0-d71b-4e81-be85-af38739d735b button.colab-df-convert');\n",
              "      buttonEl.style.display =\n",
              "        google.colab.kernel.accessAllowed ? 'block' : 'none';\n",
              "\n",
              "      async function convertToInteractive(key) {\n",
              "        const element = document.querySelector('#df-f6cb01f0-d71b-4e81-be85-af38739d735b');\n",
              "        const dataTable =\n",
              "          await google.colab.kernel.invokeFunction('convertToInteractive',\n",
              "                                                    [key], {});\n",
              "        if (!dataTable) return;\n",
              "\n",
              "        const docLinkHtml = 'Like what you see? Visit the ' +\n",
              "          '<a target=\"_blank\" href=https://colab.research.google.com/notebooks/data_table.ipynb>data table notebook</a>'\n",
              "          + ' to learn more about interactive tables.';\n",
              "        element.innerHTML = '';\n",
              "        dataTable['output_type'] = 'display_data';\n",
              "        await google.colab.output.renderOutput(dataTable, element);\n",
              "        const docLink = document.createElement('div');\n",
              "        docLink.innerHTML = docLinkHtml;\n",
              "        element.appendChild(docLink);\n",
              "      }\n",
              "    </script>\n",
              "  </div>\n",
              "\n",
              "\n",
              "<div id=\"df-7297a5f9-67cf-4f73-b153-e72860a2916c\">\n",
              "  <button class=\"colab-df-quickchart\" onclick=\"quickchart('df-7297a5f9-67cf-4f73-b153-e72860a2916c')\"\n",
              "            title=\"Suggest charts.\"\n",
              "            style=\"display:none;\">\n",
              "\n",
              "<svg xmlns=\"http://www.w3.org/2000/svg\" height=\"24px\"viewBox=\"0 0 24 24\"\n",
              "     width=\"24px\">\n",
              "    <g>\n",
              "        <path d=\"M19 3H5c-1.1 0-2 .9-2 2v14c0 1.1.9 2 2 2h14c1.1 0 2-.9 2-2V5c0-1.1-.9-2-2-2zM9 17H7v-7h2v7zm4 0h-2V7h2v10zm4 0h-2v-4h2v4z\"/>\n",
              "    </g>\n",
              "</svg>\n",
              "  </button>\n",
              "\n",
              "<style>\n",
              "  .colab-df-quickchart {\n",
              "      --bg-color: #E8F0FE;\n",
              "      --fill-color: #1967D2;\n",
              "      --hover-bg-color: #E2EBFA;\n",
              "      --hover-fill-color: #174EA6;\n",
              "      --disabled-fill-color: #AAA;\n",
              "      --disabled-bg-color: #DDD;\n",
              "  }\n",
              "\n",
              "  [theme=dark] .colab-df-quickchart {\n",
              "      --bg-color: #3B4455;\n",
              "      --fill-color: #D2E3FC;\n",
              "      --hover-bg-color: #434B5C;\n",
              "      --hover-fill-color: #FFFFFF;\n",
              "      --disabled-bg-color: #3B4455;\n",
              "      --disabled-fill-color: #666;\n",
              "  }\n",
              "\n",
              "  .colab-df-quickchart {\n",
              "    background-color: var(--bg-color);\n",
              "    border: none;\n",
              "    border-radius: 50%;\n",
              "    cursor: pointer;\n",
              "    display: none;\n",
              "    fill: var(--fill-color);\n",
              "    height: 32px;\n",
              "    padding: 0;\n",
              "    width: 32px;\n",
              "  }\n",
              "\n",
              "  .colab-df-quickchart:hover {\n",
              "    background-color: var(--hover-bg-color);\n",
              "    box-shadow: 0 1px 2px rgba(60, 64, 67, 0.3), 0 1px 3px 1px rgba(60, 64, 67, 0.15);\n",
              "    fill: var(--button-hover-fill-color);\n",
              "  }\n",
              "\n",
              "  .colab-df-quickchart-complete:disabled,\n",
              "  .colab-df-quickchart-complete:disabled:hover {\n",
              "    background-color: var(--disabled-bg-color);\n",
              "    fill: var(--disabled-fill-color);\n",
              "    box-shadow: none;\n",
              "  }\n",
              "\n",
              "  .colab-df-spinner {\n",
              "    border: 2px solid var(--fill-color);\n",
              "    border-color: transparent;\n",
              "    border-bottom-color: var(--fill-color);\n",
              "    animation:\n",
              "      spin 1s steps(1) infinite;\n",
              "  }\n",
              "\n",
              "  @keyframes spin {\n",
              "    0% {\n",
              "      border-color: transparent;\n",
              "      border-bottom-color: var(--fill-color);\n",
              "      border-left-color: var(--fill-color);\n",
              "    }\n",
              "    20% {\n",
              "      border-color: transparent;\n",
              "      border-left-color: var(--fill-color);\n",
              "      border-top-color: var(--fill-color);\n",
              "    }\n",
              "    30% {\n",
              "      border-color: transparent;\n",
              "      border-left-color: var(--fill-color);\n",
              "      border-top-color: var(--fill-color);\n",
              "      border-right-color: var(--fill-color);\n",
              "    }\n",
              "    40% {\n",
              "      border-color: transparent;\n",
              "      border-right-color: var(--fill-color);\n",
              "      border-top-color: var(--fill-color);\n",
              "    }\n",
              "    60% {\n",
              "      border-color: transparent;\n",
              "      border-right-color: var(--fill-color);\n",
              "    }\n",
              "    80% {\n",
              "      border-color: transparent;\n",
              "      border-right-color: var(--fill-color);\n",
              "      border-bottom-color: var(--fill-color);\n",
              "    }\n",
              "    90% {\n",
              "      border-color: transparent;\n",
              "      border-bottom-color: var(--fill-color);\n",
              "    }\n",
              "  }\n",
              "</style>\n",
              "\n",
              "  <script>\n",
              "    async function quickchart(key) {\n",
              "      const quickchartButtonEl =\n",
              "        document.querySelector('#' + key + ' button');\n",
              "      quickchartButtonEl.disabled = true;  // To prevent multiple clicks.\n",
              "      quickchartButtonEl.classList.add('colab-df-spinner');\n",
              "      try {\n",
              "        const charts = await google.colab.kernel.invokeFunction(\n",
              "            'suggestCharts', [key], {});\n",
              "      } catch (error) {\n",
              "        console.error('Error during call to suggestCharts:', error);\n",
              "      }\n",
              "      quickchartButtonEl.classList.remove('colab-df-spinner');\n",
              "      quickchartButtonEl.classList.add('colab-df-quickchart-complete');\n",
              "    }\n",
              "    (() => {\n",
              "      let quickchartButtonEl =\n",
              "        document.querySelector('#df-7297a5f9-67cf-4f73-b153-e72860a2916c button');\n",
              "      quickchartButtonEl.style.display =\n",
              "        google.colab.kernel.accessAllowed ? 'block' : 'none';\n",
              "    })();\n",
              "  </script>\n",
              "</div>\n",
              "    </div>\n",
              "  </div>\n"
            ]
          },
          "metadata": {},
          "execution_count": 56
        }
      ]
    },
    {
      "cell_type": "code",
      "source": [],
      "metadata": {
        "id": "_cnca5ajAE9L"
      },
      "execution_count": null,
      "outputs": []
    }
  ]
}