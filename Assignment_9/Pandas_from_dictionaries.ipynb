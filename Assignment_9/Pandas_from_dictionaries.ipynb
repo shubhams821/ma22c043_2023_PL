{
  "nbformat": 4,
  "nbformat_minor": 0,
  "metadata": {
    "colab": {
      "provenance": [],
      "authorship_tag": "ABX9TyMWGn/YnEzbAjY68/yapqcz"
    },
    "kernelspec": {
      "name": "python3",
      "display_name": "Python 3"
    },
    "language_info": {
      "name": "python"
    }
  },
  "cells": [
    {
      "cell_type": "code",
      "execution_count": 1,
      "metadata": {
        "id": "ZsFo2E_CVN5-"
      },
      "outputs": [],
      "source": [
        "import pandas as pd"
      ]
    },
    {
      "cell_type": "markdown",
      "source": [
        "1. Convert d0 to a corresponding pandas object pd0."
      ],
      "metadata": {
        "id": "2_bjQeIzVU_u"
      }
    },
    {
      "cell_type": "code",
      "source": [
        "d0 = {2:'a', 1:'b', 3:'c'}"
      ],
      "metadata": {
        "id": "CjyN5EQTVSPu"
      },
      "execution_count": 2,
      "outputs": []
    },
    {
      "cell_type": "code",
      "source": [
        "pd0 = pd.Series(d0)\n",
        "pd0"
      ],
      "metadata": {
        "colab": {
          "base_uri": "https://localhost:8080/"
        },
        "id": "CmgvRxEYVYaJ",
        "outputId": "bbeb10c0-95f0-421a-8965-7e94639c07f0"
      },
      "execution_count": 3,
      "outputs": [
        {
          "output_type": "execute_result",
          "data": {
            "text/plain": [
              "2    a\n",
              "1    b\n",
              "3    c\n",
              "dtype: object"
            ]
          },
          "metadata": {},
          "execution_count": 3
        }
      ]
    },
    {
      "cell_type": "code",
      "source": [
        "pd0_sorted = pd0.sort_index()\n",
        "pd0_sorted"
      ],
      "metadata": {
        "colab": {
          "base_uri": "https://localhost:8080/"
        },
        "id": "c1iHVlMaVyJz",
        "outputId": "1394f4d5-b530-4828-a326-861c72b1d0b2"
      },
      "execution_count": 5,
      "outputs": [
        {
          "output_type": "execute_result",
          "data": {
            "text/plain": [
              "1    b\n",
              "2    a\n",
              "3    c\n",
              "dtype: object"
            ]
          },
          "metadata": {},
          "execution_count": 5
        }
      ]
    },
    {
      "cell_type": "markdown",
      "source": [
        "2. Sort indices of pd0.\n",
        "3. Convert d1, d2 (together) to a pandas object dd."
      ],
      "metadata": {
        "id": "xNJRIsugXStc"
      }
    },
    {
      "cell_type": "code",
      "source": [
        "\n",
        "# Example dictionaries\n",
        "d1 = {'a': 1, 'b': 2}\n",
        "d2 = {'b': 3, 'c': 4}\n",
        "\n",
        "# Convert d1 to a Pandas Series\n",
        "series1 = pd.Series(d1)\n",
        "\n",
        "# Convert d2 to a Pandas Series\n",
        "series2 = pd.Series(d2)\n",
        "\n",
        "# Concatenate the two Series into a single DataFrame (if needed)\n",
        "dd = pd.concat([series1, series2], axis=1)\n",
        "\n",
        "# Display the resulting DataFrame\n",
        "print(dd)\n"
      ],
      "metadata": {
        "colab": {
          "base_uri": "https://localhost:8080/"
        },
        "id": "odUKCbSgVhY9",
        "outputId": "c881536b-567d-409e-9b40-516148bdbfa3"
      },
      "execution_count": 7,
      "outputs": [
        {
          "output_type": "stream",
          "name": "stdout",
          "text": [
            "     0    1\n",
            "a  1.0  NaN\n",
            "b  2.0  3.0\n",
            "c  NaN  4.0\n"
          ]
        }
      ]
    },
    {
      "cell_type": "markdown",
      "source": [
        "4. Give examples of indexing and slicing on dd."
      ],
      "metadata": {
        "id": "4ZGYfG7pXRdr"
      }
    },
    {
      "cell_type": "code",
      "source": [
        "\n",
        "# Indexing using column name\n",
        "column_a = dd[1]  # Get the 'a' column as a Series\n",
        "print(column_a)\n",
        "\n",
        "# Slicing rows\n",
        "first_two_rows = dd[:2]  # Get the first two rows\n",
        "print(first_two_rows)\n",
        "\n",
        "# Indexing using loc (label-based)\n",
        "row_0 = dd.loc['a']  # Get the first row by label (index 0)\n",
        "print(row_0)\n",
        "\n"
      ],
      "metadata": {
        "colab": {
          "base_uri": "https://localhost:8080/"
        },
        "id": "gk1VCGeEVlOZ",
        "outputId": "18d85381-3782-4511-ca38-ca6f61fc9c8f"
      },
      "execution_count": 20,
      "outputs": [
        {
          "output_type": "stream",
          "name": "stdout",
          "text": [
            "a    NaN\n",
            "b    3.0\n",
            "c    4.0\n",
            "Name: 1, dtype: float64\n",
            "     0    1\n",
            "a  1.0  NaN\n",
            "b  2.0  3.0\n",
            "0    1.0\n",
            "1    NaN\n",
            "Name: a, dtype: float64\n"
          ]
        }
      ]
    },
    {
      "cell_type": "markdown",
      "source": [
        "5. Give examples of implicit and explicit indexing on dd.\n",
        "6. Forward fll and backfll missing values using various axis."
      ],
      "metadata": {
        "id": "NI3j9VQKXNTM"
      }
    },
    {
      "cell_type": "code",
      "source": [
        "# Import Pandas\n",
        "import pandas as pd\n",
        "\n",
        "# Create DataFrame dd from d1 and d2\n",
        "d1 = {'a': 1, 'b': 2}\n",
        "d2 = {'b': 3, 'c': 4}\n",
        "dd = pd.DataFrame({'d1': d1, 'd2': d2})\n",
        "\n",
        "# Display dd\n",
        "print(\"DataFrame dd:\")\n",
        "print(dd)\n",
        "\n",
        "# Example of explicit indexing\n",
        "value_at_a = dd['d1']['a']  # Explicit indexing using labels\n",
        "print(\"\\nExplicit Indexing - Value at 'a':\")\n",
        "print(value_at_a)\n",
        "\n",
        "# Example of slicing\n",
        "sliced_df = dd[['d1']]  # Slicing a single column\n",
        "print(\"\\nSliced DataFrame:\")\n",
        "print(sliced_df)\n",
        "\n",
        "# Forward fill (ffill) missing values using ffill() method\n",
        "ffill_df = dd.ffill(axis=1)  # Forward fill along rows (axis=1)\n",
        "print(\"\\nForward Fill (axis=1):\")\n",
        "print(ffill_df)\n",
        "\n",
        "# Backfill (bfill) missing values using bfill() method\n",
        "bfill_df = dd.bfill(axis=0)  # Backfill along columns (axis=0)\n",
        "print(\"\\nBack Fill (axis=0):\")\n",
        "print(bfill_df)\n"
      ],
      "metadata": {
        "colab": {
          "base_uri": "https://localhost:8080/"
        },
        "id": "mZWwD9glWMDY",
        "outputId": "e6f662a7-910d-4604-b4a4-c9c3b24671bf"
      },
      "execution_count": 21,
      "outputs": [
        {
          "output_type": "stream",
          "name": "stdout",
          "text": [
            "DataFrame dd:\n",
            "    d1   d2\n",
            "a  1.0  NaN\n",
            "b  2.0  3.0\n",
            "c  NaN  4.0\n",
            "\n",
            "Explicit Indexing - Value at 'a':\n",
            "1.0\n",
            "\n",
            "Sliced DataFrame:\n",
            "    d1\n",
            "a  1.0\n",
            "b  2.0\n",
            "c  NaN\n",
            "\n",
            "Forward Fill (axis=1):\n",
            "    d1   d2\n",
            "a  1.0  1.0\n",
            "b  2.0  3.0\n",
            "c  NaN  4.0\n",
            "\n",
            "Back Fill (axis=0):\n",
            "    d1   d2\n",
            "a  1.0  3.0\n",
            "b  2.0  3.0\n",
            "c  NaN  4.0\n"
          ]
        }
      ]
    },
    {
      "cell_type": "code",
      "source": [],
      "metadata": {
        "id": "Q0KT5sA1XHi2"
      },
      "execution_count": null,
      "outputs": []
    }
  ]
}