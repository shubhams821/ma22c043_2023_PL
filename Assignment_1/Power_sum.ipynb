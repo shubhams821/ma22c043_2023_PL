{
  "nbformat": 4,
  "nbformat_minor": 0,
  "metadata": {
    "colab": {
      "provenance": [],
      "authorship_tag": "ABX9TyNq47h9nGxSd9Q6a12wHAFh",
      "include_colab_link": true
    },
    "kernelspec": {
      "name": "python3",
      "display_name": "Python 3"
    },
    "language_info": {
      "name": "python"
    }
  },
  "cells": [
    {
      "cell_type": "markdown",
      "metadata": {
        "id": "view-in-github",
        "colab_type": "text"
      },
      "source": [
        "<a href=\"https://colab.research.google.com/github/shubhams821/ma22c043_2023_PL/blob/main/Assignment_1/Power_sum.ipynb\" target=\"_parent\"><img src=\"https://colab.research.google.com/assets/colab-badge.svg\" alt=\"Open In Colab\"/></a>"
      ]
    },
    {
      "cell_type": "markdown",
      "source": [
        "**Sum up integer powers**"
      ],
      "metadata": {
        "id": "xvMXVtnO1sdF"
      }
    },
    {
      "cell_type": "code",
      "source": [
        "N = 10;\n",
        "i = 5;\n",
        "sum_1 =0;\n",
        "\n",
        "for j in range(N):\n",
        "  sum_1 += j**i\n",
        "print(sum_1)"
      ],
      "metadata": {
        "colab": {
          "base_uri": "https://localhost:8080/"
        },
        "id": "kLUsANXD1vTc",
        "outputId": "0e47ee76-ad2a-4ae0-a7a6-f8cf526072e2"
      },
      "execution_count": null,
      "outputs": [
        {
          "output_type": "stream",
          "name": "stdout",
          "text": [
            "120825\n"
          ]
        }
      ]
    },
    {
      "cell_type": "code",
      "execution_count": null,
      "metadata": {
        "colab": {
          "base_uri": "https://localhost:8080/"
        },
        "id": "Ej0qgeq91i7y",
        "outputId": "96ae642c-a582-425c-d684-f88826e9f7ec"
      },
      "outputs": [
        {
          "output_type": "execute_result",
          "data": {
            "text/plain": [
              "120825"
            ]
          },
          "metadata": {},
          "execution_count": 2
        }
      ],
      "source": [
        "list = [j**5 for j in range(10)]\n",
        "sum(list)"
      ]
    },
    {
      "cell_type": "code",
      "source": [
        "def D2(f,x,h=1E-6):\n",
        "  return (f(x+h)-2*f(x)+f(x-h))/h"
      ],
      "metadata": {
        "id": "qwJ5PaPe2-H0"
      },
      "execution_count": null,
      "outputs": []
    },
    {
      "cell_type": "code",
      "source": [
        "D2(lambda x: x**-5 + x**4,10)"
      ],
      "metadata": {
        "colab": {
          "base_uri": "https://localhost:8080/"
        },
        "id": "PMn3zLZL1k-i",
        "outputId": "10887d28-5005-46b1-f157-dada5ec33d74"
      },
      "execution_count": null,
      "outputs": [
        {
          "output_type": "execute_result",
          "data": {
            "text/plain": [
              "0.0012005330063402653"
            ]
          },
          "metadata": {},
          "execution_count": 9
        }
      ]
    }
  ]
}