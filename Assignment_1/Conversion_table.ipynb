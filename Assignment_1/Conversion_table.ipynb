{
  "nbformat": 4,
  "nbformat_minor": 0,
  "metadata": {
    "colab": {
      "provenance": [],
      "authorship_tag": "ABX9TyMK422JjSi7SHkN5vppO6g5",
      "include_colab_link": true
    },
    "kernelspec": {
      "name": "python3",
      "display_name": "Python 3"
    },
    "language_info": {
      "name": "python"
    }
  },
  "cells": [
    {
      "cell_type": "markdown",
      "metadata": {
        "id": "view-in-github",
        "colab_type": "text"
      },
      "source": [
        "<a href=\"https://colab.research.google.com/github/shubhams821/ma22c043_2023_PL/blob/main/Assignment_1/Conversion_table.ipynb\" target=\"_parent\"><img src=\"https://colab.research.google.com/assets/colab-badge.svg\" alt=\"Open In Colab\"/></a>"
      ]
    },
    {
      "cell_type": "code",
      "execution_count": 2,
      "metadata": {
        "colab": {
          "base_uri": "https://localhost:8080/"
        },
        "id": "JchTx_wDJy0H",
        "outputId": "8a921b58-ec54-4224-d886-85c51cd3623f"
      },
      "outputs": [
        {
          "output_type": "stream",
          "name": "stdout",
          "text": [
            "F C\n",
            "32.0 0\n",
            "50.0 10\n",
            "68.0 20\n",
            "86.0 30\n",
            "104.0 40\n",
            "122.0 50\n",
            "140.0 60\n",
            "158.0 70\n",
            "176.0 80\n",
            "194.0 90\n",
            "212.0 100\n",
            "230.0 110\n",
            "248.0 120\n",
            "266.0 130\n",
            "284.0 140\n",
            "302.0 150\n",
            "320.0 160\n",
            "338.0 170\n",
            "356.0 180\n",
            "374.0 190\n",
            "392.0 200\n",
            "410.0 210\n",
            "428.0 220\n",
            "446.0 230\n",
            "464.0 240\n",
            "482.0 250\n"
          ]
        }
      ],
      "source": [
        "print('F C')\n",
        "C = 0\n",
        "while C <= 250:\n",
        "  F = 9 * C / 5 + 32\n",
        "  print(F, C)\n",
        "  C += 10"
      ]
    },
    {
      "cell_type": "code",
      "source": [
        "print(' F C')\n",
        "C = 0\n",
        "while C <= 250:\n",
        "  F = 9 * C / 5 + 32\n",
        "  print('%4.0f %4.0f' % (F, C))\n",
        "  C += 10"
      ],
      "metadata": {
        "colab": {
          "base_uri": "https://localhost:8080/"
        },
        "id": "0Zx70qotJ3yb",
        "outputId": "51cadd12-2e41-4901-b45f-a59b9d790243"
      },
      "execution_count": 3,
      "outputs": [
        {
          "output_type": "stream",
          "name": "stdout",
          "text": [
            " F C\n",
            "  32    0\n",
            "  50   10\n",
            "  68   20\n",
            "  86   30\n",
            " 104   40\n",
            " 122   50\n",
            " 140   60\n",
            " 158   70\n",
            " 176   80\n",
            " 194   90\n",
            " 212  100\n",
            " 230  110\n",
            " 248  120\n",
            " 266  130\n",
            " 284  140\n",
            " 302  150\n",
            " 320  160\n",
            " 338  170\n",
            " 356  180\n",
            " 374  190\n",
            " 392  200\n",
            " 410  210\n",
            " 428  220\n",
            " 446  230\n",
            " 464  240\n",
            " 482  250\n"
          ]
        }
      ]
    },
    {
      "cell_type": "code",
      "source": [
        "print(' F C')\n",
        "for C in range(0, 250, 10):\n",
        "  F = 9 * C / 5 + 32\n",
        "  print('%4.0f %4.0f' % (F, C))"
      ],
      "metadata": {
        "colab": {
          "base_uri": "https://localhost:8080/"
        },
        "id": "jDf54xvDKMDO",
        "outputId": "d4f217ce-2f81-485a-dba3-a5088b5de351"
      },
      "execution_count": 4,
      "outputs": [
        {
          "output_type": "stream",
          "name": "stdout",
          "text": [
            " F C\n",
            "  32    0\n",
            "  50   10\n",
            "  68   20\n",
            "  86   30\n",
            " 104   40\n",
            " 122   50\n",
            " 140   60\n",
            " 158   70\n",
            " 176   80\n",
            " 194   90\n",
            " 212  100\n",
            " 230  110\n",
            " 248  120\n",
            " 266  130\n",
            " 284  140\n",
            " 302  150\n",
            " 320  160\n",
            " 338  170\n",
            " 356  180\n",
            " 374  190\n",
            " 392  200\n",
            " 410  210\n",
            " 428  220\n",
            " 446  230\n",
            " 464  240\n"
          ]
        }
      ]
    },
    {
      "cell_type": "code",
      "source": [
        "print(' F C')\n",
        "for C in range(-50, 50, 5):\n",
        "  F = 9 * C / 5 + 32\n",
        "  print('%4.0f %4.0f' % (F, C))"
      ],
      "metadata": {
        "colab": {
          "base_uri": "https://localhost:8080/"
        },
        "id": "r6KIvgbtKP88",
        "outputId": "257eb24a-7136-45f9-d6c6-b193bc8bed9b"
      },
      "execution_count": 5,
      "outputs": [
        {
          "output_type": "stream",
          "name": "stdout",
          "text": [
            " F C\n",
            " -58  -50\n",
            " -49  -45\n",
            " -40  -40\n",
            " -31  -35\n",
            " -22  -30\n",
            " -13  -25\n",
            "  -4  -20\n",
            "   5  -15\n",
            "  14  -10\n",
            "  23   -5\n",
            "  32    0\n",
            "  41    5\n",
            "  50   10\n",
            "  59   15\n",
            "  68   20\n",
            "  77   25\n",
            "  86   30\n",
            "  95   35\n",
            " 104   40\n",
            " 113   45\n"
          ]
        }
      ]
    },
    {
      "cell_type": "code",
      "source": [
        "Cs = [0, 10] # create list using []\n",
        "Cs.append(20) # modify by appending an entry\n",
        "Cs"
      ],
      "metadata": {
        "colab": {
          "base_uri": "https://localhost:8080/"
        },
        "id": "hs7etgY7KTzH",
        "outputId": "767af3cf-742a-470f-c056-50a1d3fbc439"
      },
      "execution_count": 7,
      "outputs": [
        {
          "output_type": "execute_result",
          "data": {
            "text/plain": [
              "[0, 10, 20]"
            ]
          },
          "metadata": {},
          "execution_count": 7
        }
      ]
    },
    {
      "cell_type": "code",
      "source": [
        "Cs = (0, 10) # create a tuple using ()"
      ],
      "metadata": {
        "id": "2pBMPFBIKW76"
      },
      "execution_count": 8,
      "outputs": []
    },
    {
      "cell_type": "code",
      "source": [
        "Cs = [] # empty list\n",
        "Fs = []\n",
        "for C in range(0, 250, 25):\n",
        "  Cs.append(C)\n",
        "  Fs.append(9 * C / 5 + 32)"
      ],
      "metadata": {
        "id": "l6QSo773KacR"
      },
      "execution_count": 10,
      "outputs": []
    },
    {
      "cell_type": "code",
      "source": [
        "print(Cs)\n",
        "print(Fs)"
      ],
      "metadata": {
        "colab": {
          "base_uri": "https://localhost:8080/"
        },
        "id": "lRkWMWaWKdZx",
        "outputId": "fa1e9774-7f86-4a92-921b-fa8daf317dec"
      },
      "execution_count": 11,
      "outputs": [
        {
          "output_type": "stream",
          "name": "stdout",
          "text": [
            "[0, 25, 50, 75, 100, 125, 150, 175, 200, 225]\n",
            "[32.0, 77.0, 122.0, 167.0, 212.0, 257.0, 302.0, 347.0, 392.0, 437.0]\n"
          ]
        }
      ]
    },
    {
      "cell_type": "code",
      "source": [
        "print(' F      C')\n",
        "for C, F in zip(Cs, Fs):\n",
        "  print('%4.0f %4.0f' % (F, C))"
      ],
      "metadata": {
        "colab": {
          "base_uri": "https://localhost:8080/"
        },
        "id": "JD-YmhMhKju7",
        "outputId": "1338aac3-dffb-4b60-e341-ba2fc4f538ff"
      },
      "execution_count": 14,
      "outputs": [
        {
          "output_type": "stream",
          "name": "stdout",
          "text": [
            " F      C\n",
            "  32    0\n",
            "  77   25\n",
            " 122   50\n",
            " 167   75\n",
            " 212  100\n",
            " 257  125\n",
            " 302  150\n",
            " 347  175\n",
            " 392  200\n",
            " 437  225\n"
          ]
        }
      ]
    },
    {
      "cell_type": "code",
      "source": [
        "Fs = [9 * C / 5 + 32 for C in Cs]"
      ],
      "metadata": {
        "id": "YnnmILEyKnzC"
      },
      "execution_count": 15,
      "outputs": []
    },
    {
      "cell_type": "code",
      "source": [],
      "metadata": {
        "id": "7IqLFy5MKuT6"
      },
      "execution_count": null,
      "outputs": []
    }
  ]
}