{
  "nbformat": 4,
  "nbformat_minor": 0,
  "metadata": {
    "colab": {
      "provenance": [],
      "authorship_tag": "ABX9TyNowSfSsBa8Ux3e/X4CYppN"
    },
    "kernelspec": {
      "name": "python3",
      "display_name": "Python 3"
    },
    "language_info": {
      "name": "python"
    }
  },
  "cells": [
    {
      "cell_type": "code",
      "execution_count": null,
      "metadata": {
        "colab": {
          "base_uri": "https://localhost:8080/"
        },
        "id": "naHjEnORNaN8",
        "outputId": "743889c2-8d58-4929-a37c-be87ea94f6dc"
      },
      "outputs": [
        {
          "output_type": "execute_result",
          "data": {
            "text/plain": [
              "array([[ 1, -2,  9,  5,  4],\n",
              "       [ 1, -1,  6,  5, -3],\n",
              "       [-2,  0, -6,  1, -2],\n",
              "       [ 4,  1,  9,  1, -9]])"
            ]
          },
          "metadata": {},
          "execution_count": 40
        }
      ],
      "source": [
        "import numpy as np\n",
        "from scipy.linalg import svd, qr\n",
        "A = np.array([[1, -2, 9, 5, 4,], [1, -1, 6, 5, -3], [-2, 0, -6, 1, -2],[4, 1, 9, 1, -9]])\n",
        "A"
      ]
    },
    {
      "cell_type": "code",
      "source": [
        "np.linalg.matrix_rank(A)"
      ],
      "metadata": {
        "colab": {
          "base_uri": "https://localhost:8080/"
        },
        "id": "6LNQyEdJRziU",
        "outputId": "fb4f92b2-d00e-43dc-cd7c-287b09ad864b"
      },
      "execution_count": null,
      "outputs": [
        {
          "output_type": "execute_result",
          "data": {
            "text/plain": [
              "3"
            ]
          },
          "metadata": {},
          "execution_count": 41
        }
      ]
    },
    {
      "cell_type": "code",
      "source": [
        "u,s,v = svd(A)"
      ],
      "metadata": {
        "id": "dKjs58IENfZf"
      },
      "execution_count": null,
      "outputs": []
    },
    {
      "cell_type": "code",
      "source": [
        "s"
      ],
      "metadata": {
        "colab": {
          "base_uri": "https://localhost:8080/"
        },
        "id": "8el5WpgSP9IQ",
        "outputId": "7512c751-e3fc-492b-d95a-5672dca7a8e0"
      },
      "execution_count": null,
      "outputs": [
        {
          "output_type": "execute_result",
          "data": {
            "text/plain": [
              "array([1.72083086e+01, 1.01450209e+01, 4.99526437e+00, 9.56282692e-16])"
            ]
          },
          "metadata": {},
          "execution_count": 43
        }
      ]
    },
    {
      "cell_type": "code",
      "source": [
        "v.T"
      ],
      "metadata": {
        "colab": {
          "base_uri": "https://localhost:8080/"
        },
        "id": "GYEUUIjRNf6M",
        "outputId": "a1ad4e57-b2fa-4c69-c33b-5a8d39e0cb68"
      },
      "execution_count": null,
      "outputs": [
        {
          "output_type": "execute_result",
          "data": {
            "text/plain": [
              "array([[ 0.24638127, -0.12991821,  0.3027347 , -0.87219483,  0.26466093],\n",
              "       [-0.04503456, -0.20626881,  0.2022255 ,  0.3573579 ,  0.8870317 ],\n",
              "       [ 0.8742475 ,  0.22905181,  0.3015276 ,  0.29073161, -0.08822031],\n",
              "       [ 0.30107333,  0.27058334, -0.84037193, -0.14709627,  0.32905504],\n",
              "       [-0.28690474,  0.90271499,  0.26516538, -0.07354813,  0.16452752]])"
            ]
          },
          "metadata": {},
          "execution_count": 44
        }
      ]
    },
    {
      "cell_type": "code",
      "source": [
        "s"
      ],
      "metadata": {
        "colab": {
          "base_uri": "https://localhost:8080/"
        },
        "id": "7nqdQ212Nh4_",
        "outputId": "cbe8b138-6eaa-4668-fa10-f88acc19d0d8"
      },
      "execution_count": null,
      "outputs": [
        {
          "output_type": "execute_result",
          "data": {
            "text/plain": [
              "array([1.72083086e+01, 1.01450209e+01, 4.99526437e+00, 9.56282692e-16])"
            ]
          },
          "metadata": {},
          "execution_count": 45
        }
      ]
    },
    {
      "cell_type": "code",
      "source": [],
      "metadata": {
        "id": "lX8LCxMKNmVW"
      },
      "execution_count": null,
      "outputs": []
    },
    {
      "cell_type": "code",
      "source": [
        "u1,r1 = qr(A.T)"
      ],
      "metadata": {
        "id": "tR_QotMWNo1v"
      },
      "execution_count": null,
      "outputs": []
    },
    {
      "cell_type": "code",
      "source": [
        "u1"
      ],
      "metadata": {
        "colab": {
          "base_uri": "https://localhost:8080/"
        },
        "id": "4d2E0eh7Nthc",
        "outputId": "cfa906e6-f804-454e-ee71-20d35eb069e8"
      },
      "execution_count": null,
      "outputs": [
        {
          "output_type": "execute_result",
          "data": {
            "text/plain": [
              "array([[-0.08873565, -0.07763996, -0.39411774,  0.57324869, -0.70862908],\n",
              "       [ 0.1774713 , -0.01770736, -0.2316473 ,  0.68751498,  0.6647203 ],\n",
              "       [-0.79862086, -0.1797978 , -0.48741131, -0.1910829 ,  0.23620969],\n",
              "       [-0.44367825, -0.3881998 ,  0.72286651,  0.36021819, -0.01254537],\n",
              "       [-0.3549426 ,  0.90035112,  0.17579809,  0.18010909, -0.00627268]])"
            ]
          },
          "metadata": {},
          "execution_count": 57
        }
      ]
    },
    {
      "cell_type": "code",
      "source": [
        "r1"
      ],
      "metadata": {
        "colab": {
          "base_uri": "https://localhost:8080/"
        },
        "id": "SZCy7kh0XLOm",
        "outputId": "1ec7c471-ef37-4619-b6e8-63ba071db56b"
      },
      "execution_count": null,
      "outputs": [
        {
          "output_type": "execute_result",
          "data": {
            "text/plain": [
              "array([[-1.12694277e+01, -6.21149557e+00,  5.23540341e+00,\n",
              "        -4.61425385e+00],\n",
              "       [ 0.00000000e+00, -5.78077182e+00, -9.54835308e-01,\n",
              "        -1.04378074e+01],\n",
              "       [ 0.00000000e+00,  0.00000000e+00,  4.08397364e+00,\n",
              "        -7.05413629e+00],\n",
              "       [ 0.00000000e+00,  0.00000000e+00,  0.00000000e+00,\n",
              "         2.39728491e-15],\n",
              "       [ 0.00000000e+00,  0.00000000e+00,  0.00000000e+00,\n",
              "         0.00000000e+00]])"
            ]
          },
          "metadata": {},
          "execution_count": 48
        }
      ]
    },
    {
      "cell_type": "code",
      "source": [
        "null_check = np.zeros((5,4))\n",
        "for i in range(4):\n",
        "  if i<2:\n",
        "    null_check[:,i] = v.T[:,i]\n",
        "  else:\n",
        "    null_check[:,i] = u1[:,i-2]"
      ],
      "metadata": {
        "id": "gGFJiVtKhvIn"
      },
      "execution_count": null,
      "outputs": []
    },
    {
      "cell_type": "code",
      "source": [
        "null_check= np.array([[ 0.30107333,  0.27058334, -0.84037193, -0.14709627,  0.32905504],\n",
        "       [-0.28690474,  0.90271499,  0.26516538, -0.07354813,  0.16452752],\n",
        "[-0.44367825, -0.3881998 ,  0.72286651,  0.36021819, -0.01254537],\n",
        "       [-0.3549426 ,  0.90035112,  0.17579809,  0.18010909, -0.00627268]])"
      ],
      "metadata": {
        "id": "ximf4cjEi3Uz"
      },
      "execution_count": null,
      "outputs": []
    },
    {
      "cell_type": "code",
      "source": [
        "np.linalg.matrix_rank(null_check)"
      ],
      "metadata": {
        "colab": {
          "base_uri": "https://localhost:8080/"
        },
        "id": "d25KAb2ih-qh",
        "outputId": "1235ff30-f37f-4d0a-d476-f2f086b45e7c"
      },
      "execution_count": null,
      "outputs": [
        {
          "output_type": "execute_result",
          "data": {
            "text/plain": [
              "4"
            ]
          },
          "metadata": {},
          "execution_count": 68
        }
      ]
    },
    {
      "cell_type": "code",
      "source": [
        "print('rank is 4 which shows all the 4 vectors are linearly independent hence, null space from SVD and QR Decomposition are different')"
      ],
      "metadata": {
        "colab": {
          "base_uri": "https://localhost:8080/"
        },
        "id": "YzP0bpgfi0b5",
        "outputId": "db20e78c-f4c9-4f97-8587-125901d0087f"
      },
      "execution_count": null,
      "outputs": [
        {
          "output_type": "stream",
          "name": "stdout",
          "text": [
            "rank is 4 which shows all the 4 vectors are linearly independent hence, null space from SVD and QR Decomposition are different\n"
          ]
        }
      ]
    },
    {
      "cell_type": "code",
      "source": [],
      "metadata": {
        "id": "6N0SheDDjJyn"
      },
      "execution_count": null,
      "outputs": []
    }
  ]
}