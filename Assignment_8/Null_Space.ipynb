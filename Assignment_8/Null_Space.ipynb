{
  "nbformat": 4,
  "nbformat_minor": 0,
  "metadata": {
    "colab": {
      "provenance": [],
      "authorship_tag": "ABX9TyNHDMsehF8D2t8i1zSsISAb"
    },
    "kernelspec": {
      "name": "python3",
      "display_name": "Python 3"
    },
    "language_info": {
      "name": "python"
    }
  },
  "cells": [
    {
      "cell_type": "code",
      "execution_count": 77,
      "metadata": {
        "colab": {
          "base_uri": "https://localhost:8080/"
        },
        "id": "naHjEnORNaN8",
        "outputId": "3ac2a0bc-b533-46f7-d713-ff4f5d14262d"
      },
      "outputs": [
        {
          "output_type": "execute_result",
          "data": {
            "text/plain": [
              "array([[ 1, -2,  9,  5,  4],\n",
              "       [ 1, -1,  6,  5, -3],\n",
              "       [-2,  0, -6,  1, -2],\n",
              "       [ 4,  1,  9,  1, -9]])"
            ]
          },
          "metadata": {},
          "execution_count": 77
        }
      ],
      "source": [
        "import numpy as np\n",
        "from scipy.linalg import svd, qr\n",
        "A = np.array([[1, -2, 9, 5, 4,], [1, -1, 6, 5, -3], [-2, 0, -6, 1, -2],[4, 1, 9, 1, -9]])\n",
        "A"
      ]
    },
    {
      "cell_type": "code",
      "source": [
        "np.linalg.matrix_rank(A)"
      ],
      "metadata": {
        "colab": {
          "base_uri": "https://localhost:8080/"
        },
        "id": "6LNQyEdJRziU",
        "outputId": "11b894ac-4592-4e42-d405-7bfb7b3b4bc8"
      },
      "execution_count": 78,
      "outputs": [
        {
          "output_type": "execute_result",
          "data": {
            "text/plain": [
              "3"
            ]
          },
          "metadata": {},
          "execution_count": 78
        }
      ]
    },
    {
      "cell_type": "code",
      "source": [
        "Col_vec, sing_val, range_vec = svd(A)"
      ],
      "metadata": {
        "id": "dKjs58IENfZf"
      },
      "execution_count": 79,
      "outputs": []
    },
    {
      "cell_type": "code",
      "source": [
        "sing_val"
      ],
      "metadata": {
        "colab": {
          "base_uri": "https://localhost:8080/"
        },
        "id": "8el5WpgSP9IQ",
        "outputId": "c6b482be-1302-4129-eb16-77cc1ae3c12e"
      },
      "execution_count": 80,
      "outputs": [
        {
          "output_type": "execute_result",
          "data": {
            "text/plain": [
              "array([1.72083086e+01, 1.01450209e+01, 4.99526437e+00, 9.56282692e-16])"
            ]
          },
          "metadata": {},
          "execution_count": 80
        }
      ]
    },
    {
      "cell_type": "code",
      "source": [
        "range_vec"
      ],
      "metadata": {
        "colab": {
          "base_uri": "https://localhost:8080/"
        },
        "id": "GYEUUIjRNf6M",
        "outputId": "bc705cc3-087f-4c83-938a-259dc141b49e"
      },
      "execution_count": 81,
      "outputs": [
        {
          "output_type": "execute_result",
          "data": {
            "text/plain": [
              "array([[ 0.24638127, -0.04503456,  0.8742475 ,  0.30107333, -0.28690474],\n",
              "       [-0.12991821, -0.20626881,  0.22905181,  0.27058334,  0.90271499],\n",
              "       [ 0.3027347 ,  0.2022255 ,  0.3015276 , -0.84037193,  0.26516538],\n",
              "       [-0.87219483,  0.3573579 ,  0.29073161, -0.14709627, -0.07354813],\n",
              "       [ 0.26466093,  0.8870317 , -0.08822031,  0.32905504,  0.16452752]])"
            ]
          },
          "metadata": {},
          "execution_count": 81
        }
      ]
    },
    {
      "cell_type": "code",
      "source": [
        "print('coloumn space of A.T gives us the range and remaining vectors will be in null space of A')"
      ],
      "metadata": {
        "colab": {
          "base_uri": "https://localhost:8080/"
        },
        "id": "PfDh3LiJkF1v",
        "outputId": "9198dfd2-6f24-4ae9-b3a5-bbadb9c3a3e1"
      },
      "execution_count": 82,
      "outputs": [
        {
          "output_type": "stream",
          "name": "stdout",
          "text": [
            "coloumn space of A.T gives us the range and remaining vectors will be in null space of A\n"
          ]
        }
      ]
    },
    {
      "cell_type": "code",
      "source": [
        "Col_vect_QR,R1 = qr(A.T)"
      ],
      "metadata": {
        "id": "tR_QotMWNo1v"
      },
      "execution_count": 83,
      "outputs": []
    },
    {
      "cell_type": "code",
      "source": [
        "Col_vect_QR"
      ],
      "metadata": {
        "colab": {
          "base_uri": "https://localhost:8080/"
        },
        "id": "4d2E0eh7Nthc",
        "outputId": "104618eb-8e4e-404a-af90-62490f7f221e"
      },
      "execution_count": 84,
      "outputs": [
        {
          "output_type": "execute_result",
          "data": {
            "text/plain": [
              "array([[-0.08873565, -0.07763996, -0.39411774,  0.57324869, -0.70862908],\n",
              "       [ 0.1774713 , -0.01770736, -0.2316473 ,  0.68751498,  0.6647203 ],\n",
              "       [-0.79862086, -0.1797978 , -0.48741131, -0.1910829 ,  0.23620969],\n",
              "       [-0.44367825, -0.3881998 ,  0.72286651,  0.36021819, -0.01254537],\n",
              "       [-0.3549426 ,  0.90035112,  0.17579809,  0.18010909, -0.00627268]])"
            ]
          },
          "metadata": {},
          "execution_count": 84
        }
      ]
    },
    {
      "cell_type": "code",
      "source": [
        "R1"
      ],
      "metadata": {
        "colab": {
          "base_uri": "https://localhost:8080/"
        },
        "id": "SZCy7kh0XLOm",
        "outputId": "9b3a21c0-af3a-47d3-e934-545da71cbc9f"
      },
      "execution_count": 85,
      "outputs": [
        {
          "output_type": "execute_result",
          "data": {
            "text/plain": [
              "array([[-1.12694277e+01, -6.21149557e+00,  5.23540341e+00,\n",
              "        -4.61425385e+00],\n",
              "       [ 0.00000000e+00, -5.78077182e+00, -9.54835308e-01,\n",
              "        -1.04378074e+01],\n",
              "       [ 0.00000000e+00,  0.00000000e+00,  4.08397364e+00,\n",
              "        -7.05413629e+00],\n",
              "       [ 0.00000000e+00,  0.00000000e+00,  0.00000000e+00,\n",
              "         2.39728491e-15],\n",
              "       [ 0.00000000e+00,  0.00000000e+00,  0.00000000e+00,\n",
              "         0.00000000e+00]])"
            ]
          },
          "metadata": {},
          "execution_count": 85
        }
      ]
    },
    {
      "cell_type": "code",
      "source": [
        "Null_Check = np.zeros((5,4))\n",
        "for i in range(4):\n",
        "  if i<2:\n",
        "    Null_Check[:,i] = range_vec.T[:,i]\n",
        "  else:\n",
        "    Null_Check[:,i] = Col_vect_QR[:,i-2]"
      ],
      "metadata": {
        "id": "gGFJiVtKhvIn"
      },
      "execution_count": 86,
      "outputs": []
    },
    {
      "cell_type": "code",
      "source": [
        "null_check= np.array([[ 0.30107333,  0.27058334, -0.84037193, -0.14709627,  0.32905504],\n",
        "       [-0.28690474,  0.90271499,  0.26516538, -0.07354813,  0.16452752],\n",
        "[-0.44367825, -0.3881998 ,  0.72286651,  0.36021819, -0.01254537],\n",
        "       [-0.3549426 ,  0.90035112,  0.17579809,  0.18010909, -0.00627268]])"
      ],
      "metadata": {
        "id": "ximf4cjEi3Uz"
      },
      "execution_count": 87,
      "outputs": []
    },
    {
      "cell_type": "code",
      "source": [
        "np.linalg.matrix_rank(null_check)"
      ],
      "metadata": {
        "colab": {
          "base_uri": "https://localhost:8080/"
        },
        "id": "d25KAb2ih-qh",
        "outputId": "0ca615d1-cfe8-452e-b7a0-bd005c38a9ab"
      },
      "execution_count": 88,
      "outputs": [
        {
          "output_type": "execute_result",
          "data": {
            "text/plain": [
              "4"
            ]
          },
          "metadata": {},
          "execution_count": 88
        }
      ]
    },
    {
      "cell_type": "code",
      "source": [
        "print('rank is 4 which shows all the 4 vectors are linearly independent hence, null space from SVD and QR Decomposition are different')"
      ],
      "metadata": {
        "colab": {
          "base_uri": "https://localhost:8080/"
        },
        "id": "YzP0bpgfi0b5",
        "outputId": "25485d29-a726-4bdd-c952-4505635ab7d1"
      },
      "execution_count": 89,
      "outputs": [
        {
          "output_type": "stream",
          "name": "stdout",
          "text": [
            "rank is 4 which shows all the 4 vectors are linearly independent hence, null space from SVD and QR Decomposition are different\n"
          ]
        }
      ]
    },
    {
      "cell_type": "code",
      "source": [],
      "metadata": {
        "id": "6N0SheDDjJyn"
      },
      "execution_count": 89,
      "outputs": []
    }
  ]
}