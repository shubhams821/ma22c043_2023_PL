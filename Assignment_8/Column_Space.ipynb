{
  "nbformat": 4,
  "nbformat_minor": 0,
  "metadata": {
    "colab": {
      "provenance": [],
      "authorship_tag": "ABX9TyPbWtqXmTqQuVdRsRfUPHO8"
    },
    "kernelspec": {
      "name": "python3",
      "display_name": "Python 3"
    },
    "language_info": {
      "name": "python"
    }
  },
  "cells": [
    {
      "cell_type": "code",
      "execution_count": 204,
      "metadata": {
        "id": "XdAS-WonmPgj"
      },
      "outputs": [],
      "source": [
        "import numpy as np\n",
        "from scipy.linalg import svd, qr\n",
        "A = np.array([[1, -2, 3, -3], [2, -4, 9, -2], [-3, 6, -9, 9]])"
      ]
    },
    {
      "cell_type": "code",
      "source": [
        "np.linalg.matrix_rank(A)"
      ],
      "metadata": {
        "colab": {
          "base_uri": "https://localhost:8080/"
        },
        "id": "7VwbZUjdRquO",
        "outputId": "1ae50d76-b36f-492d-cf3d-17d4f7887030"
      },
      "execution_count": 205,
      "outputs": [
        {
          "output_type": "execute_result",
          "data": {
            "text/plain": [
              "2"
            ]
          },
          "metadata": {},
          "execution_count": 205
        }
      ]
    },
    {
      "cell_type": "code",
      "source": [
        "Col_vec, sing_val, range_vec = svd(A)"
      ],
      "metadata": {
        "id": "JOJikt5VmVdK"
      },
      "execution_count": 206,
      "outputs": []
    },
    {
      "cell_type": "code",
      "source": [
        "Col_vec"
      ],
      "metadata": {
        "colab": {
          "base_uri": "https://localhost:8080/"
        },
        "id": "Ltq5zGJsDLrW",
        "outputId": "ef0cdedc-af32-4716-f3ec-f0332e07c2b0"
      },
      "execution_count": 207,
      "outputs": [
        {
          "output_type": "execute_result",
          "data": {
            "text/plain": [
              "array([[ 2.66235859e-01,  1.70641342e-01,  9.48683298e-01],\n",
              "       [ 5.39615303e-01, -8.41911709e-01, -5.55111512e-17],\n",
              "       [-7.98707576e-01, -5.11924025e-01,  3.16227766e-01]])"
            ]
          },
          "metadata": {},
          "execution_count": 207
        }
      ]
    },
    {
      "cell_type": "code",
      "source": [
        "range_vec"
      ],
      "metadata": {
        "colab": {
          "base_uri": "https://localhost:8080/"
        },
        "id": "2q3eBYk2DNlb",
        "outputId": "fb8d3eef-4c8f-4eaf-fd97-7bbf0dad4e1c"
      },
      "execution_count": 208,
      "outputs": [
        {
          "output_type": "execute_result",
          "data": {
            "text/plain": [
              "array([[ 0.21009764, -0.42019527,  0.72119431, -0.50909104],\n",
              "       [ 0.0053474 , -0.01069481, -0.58183848, -0.81321646],\n",
              "       [-0.24209024, -0.89711712, -0.29564648,  0.22173486],\n",
              "       [ 0.9472184 , -0.13602362, -0.23224108,  0.17418081]])"
            ]
          },
          "metadata": {},
          "execution_count": 208
        }
      ]
    },
    {
      "cell_type": "code",
      "source": [
        "sing_val"
      ],
      "metadata": {
        "colab": {
          "base_uri": "https://localhost:8080/"
        },
        "id": "0SiSjYGlC1d-",
        "outputId": "0a659cf0-306a-448a-cf35-e0a6c57e9865"
      },
      "execution_count": 209,
      "outputs": [
        {
          "output_type": "execute_result",
          "data": {
            "text/plain": [
              "array([1.78088115e+01, 4.22448020e+00, 3.71370969e-16])"
            ]
          },
          "metadata": {},
          "execution_count": 209
        }
      ]
    },
    {
      "cell_type": "code",
      "source": [
        "print('we can clearly see that there are 3 non- zero singular values but rank is 2, assume the third singular value to be 0 as it is almost close to machine precision')"
      ],
      "metadata": {
        "colab": {
          "base_uri": "https://localhost:8080/"
        },
        "id": "bfzERTe8T1nw",
        "outputId": "d65573a5-5584-4310-eb5d-0c720e87c971"
      },
      "execution_count": 210,
      "outputs": [
        {
          "output_type": "stream",
          "name": "stdout",
          "text": [
            "we can clearly see that there are 3 non- zero singular values but rank is 2, assume the third singular value to be 0 as it is almost close to machine precision\n"
          ]
        }
      ]
    },
    {
      "cell_type": "code",
      "source": [
        "Col_vect_QR,R1 = qr(A)"
      ],
      "metadata": {
        "id": "By5v-7yJoaOs"
      },
      "execution_count": 211,
      "outputs": []
    },
    {
      "cell_type": "code",
      "source": [
        "Col_vect_QR"
      ],
      "metadata": {
        "colab": {
          "base_uri": "https://localhost:8080/"
        },
        "id": "OmeTK-V-oa8b",
        "outputId": "c3a790b7-c7f3-4019-bb43-a953c7ba3598"
      },
      "execution_count": 212,
      "outputs": [
        {
          "output_type": "execute_result",
          "data": {
            "text/plain": [
              "array([[-0.26726124,  0.95618289, -0.11952286],\n",
              "       [-0.53452248, -0.04390192,  0.84401323],\n",
              "       [ 0.80178373,  0.28945968,  0.52283453]])"
            ]
          },
          "metadata": {},
          "execution_count": 212
        }
      ]
    },
    {
      "cell_type": "code",
      "source": [
        "R1"
      ],
      "metadata": {
        "colab": {
          "base_uri": "https://localhost:8080/"
        },
        "id": "sVjh38sEJLuy",
        "outputId": "9323bd0d-0f99-4e29-c656-7ae30a279b9b"
      },
      "execution_count": 213,
      "outputs": [
        {
          "output_type": "execute_result",
          "data": {
            "text/plain": [
              "array([[-3.74165739e+00,  7.48331477e+00, -1.28285396e+01,\n",
              "         9.08688223e+00],\n",
              "       [ 0.00000000e+00, -1.98602732e-15, -1.31705767e-01,\n",
              "        -1.75607689e-01],\n",
              "       [ 0.00000000e+00,  0.00000000e+00,  2.53203970e+00,\n",
              "         3.37605293e+00]])"
            ]
          },
          "metadata": {},
          "execution_count": 213
        }
      ]
    },
    {
      "cell_type": "code",
      "source": [
        "# col_check= np.array([[-0.26726124, -0.53452248,  0.80178373],\n",
        "# [ 0.95618289, -0.04390192,  0.28945968],\n",
        "# [-0.26726124, -0.53452248,  0.80178373],\n",
        "# [ 0.95618289, -0.04390192,  0.28945968],\n",
        "# [-0.26726124, -0.53452248,  0.80178373],\n",
        "# [ 0.95618289, -0.04390192,  0.28945968]])\n",
        "col_check = np.zeros((3,4))\n",
        "for i in range(4):\n",
        "  if i<2:\n",
        "    col_check[:,i] = Col_vec[:,i]\n",
        "  else:\n",
        "    col_check[:,i] = Col_vect_QR[:,i-2]"
      ],
      "metadata": {
        "id": "-3o5HjzwWVCv"
      },
      "execution_count": 221,
      "outputs": []
    },
    {
      "cell_type": "code",
      "source": [
        "col_check"
      ],
      "metadata": {
        "colab": {
          "base_uri": "https://localhost:8080/"
        },
        "id": "TGStZiiHhf9t",
        "outputId": "a76dd468-68e3-4afc-c848-0aed00333f25"
      },
      "execution_count": 222,
      "outputs": [
        {
          "output_type": "execute_result",
          "data": {
            "text/plain": [
              "array([[-0.26726124, -0.53452248,  0.80178373],\n",
              "       [ 0.95618289, -0.04390192,  0.28945968],\n",
              "       [-0.26726124, -0.53452248,  0.80178373],\n",
              "       [ 0.95618289, -0.04390192,  0.28945968],\n",
              "       [-0.26726124, -0.53452248,  0.80178373],\n",
              "       [ 0.95618289, -0.04390192,  0.28945968]])"
            ]
          },
          "metadata": {},
          "execution_count": 222
        }
      ]
    },
    {
      "cell_type": "code",
      "source": [
        "np.linalg.matrix_rank(col_check)"
      ],
      "metadata": {
        "colab": {
          "base_uri": "https://localhost:8080/"
        },
        "id": "E_eU7HlXWVuU",
        "outputId": "3dab5df7-fe93-4db5-e1e2-4bc186e00415"
      },
      "execution_count": 223,
      "outputs": [
        {
          "output_type": "execute_result",
          "data": {
            "text/plain": [
              "2"
            ]
          },
          "metadata": {},
          "execution_count": 223
        }
      ]
    },
    {
      "cell_type": "code",
      "source": [
        "print('We took first 2 vectors of SVD Decomposition and first 2 vector of QR Decomposition and finds its rank which is 2, shows that both span same coloumn space ')"
      ],
      "metadata": {
        "colab": {
          "base_uri": "https://localhost:8080/"
        },
        "id": "Q7yRl83sWZJe",
        "outputId": "e954f696-a574-4306-b05d-7b65972d49d2"
      },
      "execution_count": 224,
      "outputs": [
        {
          "output_type": "stream",
          "name": "stdout",
          "text": [
            "We took first 2 vectors of SVD Decomposition and first 2 vector of QR Decomposition and finds its rank which is 2, shows that both span same coloumn space \n"
          ]
        }
      ]
    },
    {
      "cell_type": "code",
      "source": [
        "import time\n",
        "time1 = 0\n",
        "time2 = 0\n",
        "for i in range(10000):\n",
        "  start_time = time.time()\n",
        "  A1 = np.random.random((500,500))\n",
        "  u,s,v = svd(A)\n",
        "  end_time = datetime.now()\n",
        "  time1 += time.time() - start_time\n",
        "  start_time = time.time()\n",
        "  A1 = np.random.random((500,500))\n",
        "  u1,r = qr(A)\n",
        "  end_time = datetime.now()\n",
        "  time2 += time.time() - start_time\n",
        "print('Average duration for SVD: {}'.format(time1/10000),'Average duration for QR: {}'.format(time2/10000))"
      ],
      "metadata": {
        "id": "gS5NGI44EAfZ"
      },
      "execution_count": null,
      "outputs": []
    },
    {
      "cell_type": "code",
      "source": [],
      "metadata": {
        "id": "RTDZFIoxlrJZ"
      },
      "execution_count": null,
      "outputs": []
    }
  ]
}